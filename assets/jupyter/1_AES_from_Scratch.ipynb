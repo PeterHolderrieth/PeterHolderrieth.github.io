{
 "cells": [
  {
   "cell_type": "markdown",
   "id": "41134be3",
   "metadata": {},
   "source": [
    "# Symmetric cipher from scratch: Advanced Encryption Standard (AES) "
   ]
  },
  {
   "cell_type": "markdown",
   "id": "481d151a",
   "metadata": {},
   "source": [
    "This notebook provides an introduction to the most important symmetric cryptographic system, i.e. the [Advanced Encryption Standard (AES)](https://en.wikipedia.org/wiki/Advanced_Encryption_Standard). The AES is a [symmetric cipher](https://en.wikipedia.org/wiki/Symmetric-key_algorithm), i.e. that means the sender and receiver of the message use the same key to encrypt and decrypt their messages. Similar approaches than the AES are also used for hash functions. Understanding AES therefore constitutes a fundamental concept for cryptography - and also for understsanding the concept of hash functions, etc.\n",
    "\n",
    "In brief, the AES is an algorithm that describes how to convert a message of $128$-bit message $m$ into an encrypted 128-bit message $AES(m,k)$ via a cryptographic key $k$. The cryptographic key is a $128$-bit, a $192$-bit, or a $256$-bit key depending on the AES standard that you would like to use: **AES-128, AES-192, AES-256**. The higher the bit size, the more secure the encryption is.\n",
    "\n",
    "The AES essentially scrambles the bits of a $128$-bit message over several rounds to produce an output $AES(m,k)$ such that:\n",
    "1. Nobody could ever reproduce the input $m$ from $AES(m,k)$ **without knowing** the key $k$. \n",
    "1. One can very easily reproduce the input $m$ from $AES(m,k)$ **if you know** the key $k$. \n",
    "\n",
    "\n",
    "There are very short [implementations](https://github.com/kokke/tiny-AES-C) for the AES algorithm that simply write down that scrambling of bits. Instead of aiming for brevity, this tutorial aims to provide a mathematical understanding of the operations that produce the AES cipher, its design considerations, and a concise implementations highlighting these choices.\n",
    "\n",
    "To understand this tutorial, you should have heard about the following concepts:\n",
    "1. The concept of a field $\\mathbb{K}$ such as $\\mathbb{K}=\\mathbb{R},\\mathbb{C},\\mathbb{Q}$.\n",
    "2. The concept of a polynomial ring $\\mathbb{K}[X]$ (we will explain that again briefly).\n",
    "3. Modular arithmetic, e.g. what $a * b \\text{ mod } n$ means.\n",
    "\n",
    "**Code:** You can find the code generating this post in a jupyter notebook [here](https://github.com/PeterHolderrieth/PeterHolderrieth.github.io/blob/main/projects/BitCoin_and_Encription/1_AES_from_Scratch.ipynb).\n",
    "\n",
    "I hope this tutorial will give a great introduction to a fundamental concept in computer science :) "
   ]
  },
  {
   "cell_type": "code",
   "execution_count": 37,
   "id": "d3543a0d",
   "metadata": {},
   "outputs": [],
   "source": [
    "import numpy as np"
   ]
  },
  {
   "cell_type": "markdown",
   "id": "167af2ac",
   "metadata": {},
   "source": [
    "## 1. Math with bytes: constructing $GF(2^8)$\n",
    "\n",
    "In AES, a 128-bit message $[b_0,b_1,\\dots,b_{127}]$ is chunked into 16 $8$-bit bytes $[c_0,c_1,\\dots,c_{16}]$. The AES framework considers the bytes as algebraic elements and we need to \"do math\" with them. Specifically, we need to define:\n",
    "\n",
    "1. **Addition:** What does it mean to add two bytes: $c_1+c_2=$?\n",
    "2. **Multiplication:** What does it mean to multiply two bytes: $c_1*c_2=$?\n",
    "2. **Inverse:** What does it mean to take the inverse of a byte: $c^{-1}=$?\n",
    "\n",
    "Mathematically speaking, the bytes are considered as elements in the [Galois field](https://en.wikipedia.org/wiki/Finite_field#:~:text=In%20mathematics%2C%20a%20finite%20field,and%20satisfy%20certain%20basic%20rules.) $GF(2^8)$. Therefore, before we speak about AES, we first need to define and implement $GF(2^8)$ first. This is the goal of this chapter."
   ]
  },
  {
   "cell_type": "markdown",
   "id": "e3c7406a",
   "metadata": {},
   "source": [
    "## 1.1. Prime fields $GF(p)$"
   ]
  },
  {
   "cell_type": "markdown",
   "id": "61ba6948",
   "metadata": {},
   "source": [
    "For every prime number $p$, classical modular arithmetic in $\\mathbb{Z}$ leads to a field $GF(p)=\\mathbb{Z}/p\\mathbb{Z}$ by defining addition and multiplication as addition and multiplication mod $p$. I.e. for all $a,b\\in\\mathbb{Z}$:\n",
    "$$a + b \\text{ mod } p$$\n",
    "$$a * b \\text{ mod } p$$\n"
   ]
  },
  {
   "cell_type": "markdown",
   "id": "ec0ae416",
   "metadata": {},
   "source": [
    "Let's look at an example"
   ]
  },
  {
   "cell_type": "code",
   "execution_count": 2,
   "id": "d1a4950c",
   "metadata": {},
   "outputs": [
    {
     "name": "stdout",
     "output_type": "stream",
     "text": [
      "9\n",
      "3\n"
     ]
    }
   ],
   "source": [
    "p = 13\n",
    "a = 10\n",
    "b = 12\n",
    "\n",
    "print((a + b)%p)\n",
    "print((a * b)%p)"
   ]
  },
  {
   "cell_type": "markdown",
   "id": "764b37a6",
   "metadata": {},
   "source": [
    "To compute the inverse $a^{-1} \\text{ mod }p$, we use the extended [Euclidean algorithm]() that computes for input $a$ and $p$ two integers $x,y$ such that $$1=x*p+y*a$$\n",
    "\n",
    "The above equation implies that $y*a = 1 \\text{ mod }p$, i.e. $y=a^{-1}\\text{ mod }p$ is the modular (mod $p$) inverse of $a$. These operations gives us the **field $GF(p)$ consisting of all modulo classes $0,1,2,\\dots,p-1$**.\n",
    "\n",
    "Let's implement these operations:"
   ]
  },
  {
   "cell_type": "code",
   "execution_count": 3,
   "id": "33c3df99",
   "metadata": {},
   "outputs": [],
   "source": [
    "def xgcd(a, b):\n",
    "    \"\"\"Extended Euclidean Algorithm (Iterative)\n",
    "\n",
    "    Args:\n",
    "        a: int\n",
    "        b: int\n",
    "\n",
    "    NOTES\n",
    "    =====\n",
    "    We can represent gcd(a,b) = a.x + b.y\n",
    "    This function returns gcd(a, b), x, y\n",
    "\n",
    "    REFERENCES\n",
    "    ==========\n",
    "    https://anh.cs.luc.edu/331/notes/xgcd.pdf\n",
    "\n",
    "    EXAMPLES\n",
    "    ========\n",
    "    >>> xgcd(15, 35)\n",
    "    (5, -2, 1)\n",
    "    >>> xgcd(30, 20)\n",
    "    (10, 1, -1)\n",
    "    \"\"\"\n",
    "    assert a > 0 and b > 0,f\"a={a} and b={b}\"\n",
    "\n",
    "    xprev, x = 0, 1\n",
    "    yprev, y = 1, 0\n",
    "\n",
    "    while a:\n",
    "        q = b // a\n",
    "        x, xprev = xprev - q * x, x\n",
    "        y, yprev = yprev - q * y, y\n",
    "        a, b = b % a, a\n",
    "\n",
    "    return b, xprev, yprev\n",
    "\n",
    "\n",
    "def inverse(a, n):\n",
    "    \"\"\"Modular Multiplicative Inverse\n",
    "\n",
    "    Args:\n",
    "        a: integer whose inverse is to be found\n",
    "        n: modular base\n",
    "\n",
    "    NOTES\n",
    "    =====\n",
    "    Returns the modular multiplicative inverse of 'a' under mod n\n",
    "    Return value is always positive\n",
    "\n",
    "    EXAMPLES\n",
    "    ========\n",
    "    >>> inverse(2, 5)\n",
    "    3\n",
    "    >>> inverse(17, 39)\n",
    "    23\n",
    "    >>> inverse(2,4)\n",
    "    Traceback (most recent call last):\n",
    "    Exception: Inverse does not exist.\n",
    "\n",
    "    \"\"\"\n",
    "    g, x, _ = xgcd(a, n)\n",
    "\n",
    "    if g != 1:\n",
    "        raise Exception(\"Inverse does not exist.\")\n",
    "\n",
    "    return (x % n + n) % n"
   ]
  },
  {
   "cell_type": "code",
   "execution_count": 4,
   "id": "f251e5fd",
   "metadata": {},
   "outputs": [],
   "source": [
    "assert (inverse(10,13)*10)%13 == 1\n",
    "assert (inverse(4,5)*4)%5 == 1"
   ]
  },
  {
   "cell_type": "markdown",
   "id": "fd3b1e75",
   "metadata": {},
   "source": [
    "**Note that $GF(2)$ is super simple:** the elements are bits $b\\in{0,1}$ and\n",
    "1. Addition is the `XOR` operation, i.e. exclusive or.\n",
    "2. Multiplication is the `AND` operation."
   ]
  },
  {
   "cell_type": "markdown",
   "id": "85bd3943",
   "metadata": {},
   "source": [
    "## 1.2. Polynomial ring $GF(p)[X]$\n",
    "\n",
    "As a next step, we can define a polynomial ring $GF(p)[X]$, i.e. all polynomials of the form:\n",
    "$$a(X) = a_n*X^n+a_{n-1}X^{n-1}+\\dots+a_1X+a_0$$\n",
    "$$b(X) = b_m*X^n+b_{m-1}X^{m-1}+\\dots+b_1X+b_0$$\n",
    "for some $m,n\\in\\mathbb{N}$ and $a_n,b_m\\neq 0$. The degree is defined as the index of the largest element $\\neq 0$, i.e. $\\text{deg}(a(X))=n$ and $\\text{deg}(b(X))=m$.\n",
    "\n",
    "Addition and multiplication is defined as follows:\n",
    "$$a(X)+b(X) = (a_n+b_n)*X^n+(a_{n-1}+b_{n-1})X^{n-1}+\\dots+(a_1+b_1)X+(a_0+b_0)$$\n",
    "$$a(X)*b(X) = c_{k}*X^k+c_{k-1}X^{k-1}+\\dots+c_1X+c_0$$\n",
    "with\n",
    "    $$c_k = \\sum\\limits_{j=0}^k a_j*b_{k-j}$$"
   ]
  },
  {
   "cell_type": "markdown",
   "id": "4ab38528",
   "metadata": {},
   "source": [
    "Let's implement this:"
   ]
  },
  {
   "cell_type": "code",
   "execution_count": 5,
   "id": "331e6515",
   "metadata": {},
   "outputs": [],
   "source": [
    "from typing import List, Union, Literal\n",
    "import numpy as np\n",
    "\n",
    "class GFpPolynomial:\n",
    "    def __init__(self, coefficients: Union[List[int],Literal[0]],p:int):\n",
    "        \"\"\"\n",
    "        Initialize polynomial.\n",
    "            coefficients - list of ints representing coefficients. X^i-coefficient is at coefficients[i] \n",
    "                            (i.e. reverse direction). We also allow coefficients to be an int, then this\n",
    "                            is a constant polynomial.\n",
    "            p - int - prime number determining GF(p)\n",
    "        \"\"\"\n",
    "        self.p = p\n",
    "        \n",
    "        #If constant polynomial\n",
    "        if isinstance(coefficients,int):\n",
    "            coefficients = [coefficients]\n",
    "            \n",
    "        coefficients = np.array([a % p for a in coefficients]).astype('int')\n",
    "        \n",
    "        self.coefficients = self._remove_leading_zero_coefficients(coefficients)\n",
    "        \n",
    "        if len(self.coefficients) == 0:\n",
    "            self.coefficients = np.array([0])\n",
    "        \n",
    "        self.degree = max(len(self.coefficients)-1,0)\n",
    "\n",
    "    @staticmethod\n",
    "    def _remove_leading_zero_coefficients(coefficients: np.ndarray):\n",
    "        mask = (coefficients>0)[::-1].cumsum()[::-1]>0\n",
    "        return coefficients[mask]\n",
    "    \n",
    "    @staticmethod\n",
    "    def _expand_leading_zero_coefficients(coefficients: np.ndarray, pad_length: int):\n",
    "        return np.concatenate([coefficients,\n",
    "                                        np.zeros(shape=pad_length,\n",
    "                                                 dtype='int')])\n",
    "    \n",
    "    def __str__(self):\n",
    "        string = f\"{self.coefficients[0]}\"\n",
    "        for idx in range(1,self.degree+1):\n",
    "            string = f\"{self.coefficients[idx]}*x^{idx}+\"+string\n",
    "        return string\n",
    "    \n",
    "    def __add__(self,polynomial):\n",
    "        assert self.p == polynomial.p, \"Polynomials be from the same field if you add them.\"\n",
    "        max_degree = max(self.degree,polynomial.degree)\n",
    "        pad_coef_self = self._expand_leading_zero_coefficients(self.coefficients,max_degree-self.degree)\n",
    "        pad_coef_poly = self._expand_leading_zero_coefficients(polynomial.coefficients,max_degree-polynomial.degree)\n",
    "\n",
    "        return GFpPolynomial(pad_coef_self+pad_coef_poly,p=self.p)\n",
    "    \n",
    "    def __sub__(self,polynomial):\n",
    "        assert self.p == polynomial.p, \"Polynomials be from the same field if you add them.\"\n",
    "        max_degree = max(self.degree,polynomial.degree)\n",
    "        pad_coef_self = self._expand_leading_zero_coefficients(self.coefficients,max_degree-self.degree)\n",
    "        pad_coef_poly = self._expand_leading_zero_coefficients(polynomial.coefficients,max_degree-polynomial.degree)\n",
    "\n",
    "        return GFpPolynomial(pad_coef_self-pad_coef_poly,p=self.p)\n",
    "    \n",
    "    def __mul__(self, polynomial):\n",
    "        \n",
    "        assert self.p == polynomial.p, \"Polynomials be from the same field if you add them.\"\n",
    "\n",
    "        outer_product = self.coefficients[:,None]*polynomial.coefficients[None,:]\n",
    "        product_coef = np.bincount(sum(np.indices(outer_product.shape)).flat, outer_product.flat)\n",
    "        \n",
    "        return GFpPolynomial(product_coef,p=self.p)\n",
    "    \n",
    "    def __eq__(self, polynomial):\n",
    "        if self.p == polynomial.p:\n",
    "            if self.degree == polynomial.degree:\n",
    "                return (self.coefficients == polynomial.coefficients).all()\n",
    "        return False"
   ]
  },
  {
   "cell_type": "markdown",
   "id": "d9a2708d",
   "metadata": {},
   "source": [
    "**Example:**"
   ]
  },
  {
   "cell_type": "code",
   "execution_count": 6,
   "id": "ee75f7c3",
   "metadata": {},
   "outputs": [
    {
     "name": "stdout",
     "output_type": "stream",
     "text": [
      "A:  2*x^3+2*x^2+1*x^1+4\n",
      "B:  4*x^7+3*x^6+3*x^5+1*x^4+4*x^3+0*x^2+2*x^1+1\n",
      "A+B:  4*x^7+3*x^6+3*x^5+1*x^4+1*x^3+2*x^2+3*x^1+0\n",
      "A*B:  3*x^10+4*x^9+1*x^8+2*x^7+0*x^6+1*x^5+2*x^4+2*x^3+4*x^2+4*x^1+4\n"
     ]
    }
   ],
   "source": [
    "A = GFpPolynomial([4,1,2,2],5)\n",
    "B = GFpPolynomial([1,2,0,4,1,3,3,4],5)\n",
    "print(\"A: \", A)\n",
    "print(\"B: \", B)\n",
    "print(\"A+B: \", A+B)\n",
    "print(\"A*B: \", A*B)"
   ]
  },
  {
   "cell_type": "markdown",
   "id": "d8c4142a",
   "metadata": {},
   "source": [
    "Note, for $GF(2)[X]$, this means:\n",
    "1. Addition: bit-wise XOR operation.\n",
    "2. Multiplication: compute `XOR` of all vectors $a_i'=$shift($a$,$i$) where $b_i=1$. In pseudocode:\n",
    "    ```\n",
    "    output = 0\n",
    "    \n",
    "    for i in [0,1,...,deg(b(X))]:\n",
    "    \n",
    "        if b_i=1:\n",
    "            output = output XOR shift(a(X),i)\n",
    "            \n",
    "    return output\n",
    "    ```"
   ]
  },
  {
   "cell_type": "markdown",
   "id": "818685e5",
   "metadata": {},
   "source": [
    "## 1.3. Euclidean division in $GF(p)[X]$"
   ]
  },
  {
   "cell_type": "markdown",
   "id": "f6976dd8",
   "metadata": {},
   "source": [
    "Recall, that for integers $\\mathbb{Z}$ we can define Euclidean division for $a,b\\in\\mathbb{Z}$ as follows:\n",
    "    $$b = q*a + r$$\n",
    "for a unique remainder $0\\leq r<a$. It is then defined that $r=b\\text{ mod } a$\n",
    "\n",
    "Astonishingly, we can do a similar thing for a polynomial ring $GF(p)[X]$. For two polynomials $a(X),b(X)$, we find unique polynomials $q(X),r(X)$ such that:\n",
    "    $$b(X) = q(X)*a(X) + r(X)$$\n",
    "and $0\\leq \\text{deg}(r)<\\text{deg}(a)$. Similarly, one can define then $r(X)=b(X)\\text{ mod }a(X)$.\n",
    "\n",
    "One can find a solution for $q(X)$ iteratively by solving the coefficients of $q$ step by step and then set $r(X)=b(X)-q(X)*a(X)$. Below is an implementation:"
   ]
  },
  {
   "cell_type": "code",
   "execution_count": 7,
   "id": "1376baa5",
   "metadata": {},
   "outputs": [],
   "source": [
    "def find_polynomial_modulo_decomposition(B: GFpPolynomial, A: GFpPolynomial):\n",
    "    \"\"\"Unique decomposition B = Q*A+R where deg(R)<deg(A)\"\"\"\n",
    "    \n",
    "    assert B.p == A.p, \"Polynomials must have coefficients from the same field GF(p)\"\n",
    "    \n",
    "    degree_diff = B.degree - A.degree\n",
    "    \n",
    "    #If the degree of B is smaller, simply set R=B, Q=0:\n",
    "    if degree_diff < 0:\n",
    "        R = B\n",
    "        Q = GFpPolynomial(0,p=B.p)\n",
    "        \n",
    "    else:\n",
    "        \n",
    "        #Init coefficients of Q as zero:\n",
    "        current_coefficients = np.zeros(degree_diff+1)\n",
    "        \n",
    "        #Take the inverse of the lead coefficients of A:\n",
    "        inverse_lead_A = inverse(A.coefficients[-1],n=B.p)\n",
    "        \n",
    "        #Init lead coefficient such that A*Q has same lead monomimal as B:\n",
    "        current_coefficients[-1] = inverse_lead_A * B.coefficients[-1]\n",
    "        \n",
    "        #Init Q:\n",
    "        Q = GFpPolynomial(current_coefficients,p=B.p)\n",
    "\n",
    "        for idx in range(degree_diff):\n",
    "            \n",
    "            #Compute current remainder:\n",
    "            current_product = A*Q\n",
    "            R = B-A*Q\n",
    "            \n",
    "            #Compute lead coefficient of remainder (need to extend because potentially zero):\n",
    "            difference_coeff = R._expand_leading_zero_coefficients(R.coefficients,B.degree)\\\n",
    "                                [B.degree-idx-1]\n",
    "            \n",
    "            #Match lead coefficient by computing inverse\n",
    "            current_coefficients[-idx-2] = (inverse_lead_A*difference_coeff)%B.p\n",
    "            \n",
    "            #Update Q:\n",
    "            Q = GFpPolynomial(current_coefficients,p=B.p)\n",
    "        \n",
    "        #Set R as remainder:\n",
    "        R = B-A*Q\n",
    "        \n",
    "    assert R.degree < A.degree or R.coefficients==[0],f\"R={R} | A={A} | B = {B}\"\n",
    "    \n",
    "    return Q,R"
   ]
  },
  {
   "cell_type": "code",
   "execution_count": 8,
   "id": "90515ead",
   "metadata": {},
   "outputs": [
    {
     "name": "stdout",
     "output_type": "stream",
     "text": [
      "Q*A+R:  4*x^7+3*x^6+3*x^5+1*x^4+4*x^3+0*x^2+2*x^1+1\n",
      "B    :  4*x^7+3*x^6+3*x^5+1*x^4+4*x^3+0*x^2+2*x^1+1\n",
      "A    :  4*x^7+3*x^6+3*x^5+1*x^4+4*x^3+0*x^2+2*x^1+1\n",
      "R    :  3*x^2+1*x^1+4\n"
     ]
    }
   ],
   "source": [
    "Q,R = find_polynomial_modulo_decomposition(B,A)\n",
    "print(\"Q*A+R: \", Q*A+R)\n",
    "print(\"B    : \",B)\n",
    "print(\"A    : \",B)\n",
    "print(\"R    : \",R)"
   ]
  },
  {
   "cell_type": "markdown",
   "id": "811db32b",
   "metadata": {},
   "source": [
    "## 1.4. The Galois field $GF(p^n)$\n",
    "\n",
    "We can use the Euclidean division for $GF(p)[X]$ and go one step further: let $q(X)$ be an **irreducible polynomial** in $GF(p)[X]$, i.e. similarly like a prime number we cannot find polynomials $q_1,q_2$ that are non-constant and non-zero such that $q_1(X)*q_2(X)=q(X)$. Let $n=\\text{deg}(q)$. Then let's define that modulo field $GF(p^n)=GF(p)[X]\\text{ mod } q(X)$ similarly as for $\\mathbb{Z}/p\\mathbb{Z}$:\n",
    "$$a_1(X)+a_2(X) \\text{ mod } q(X)$$\n",
    "$$a_1(X)*a_2(X) \\text{ mod } q(X)$$\n",
    "\n",
    "Similarly, we can find an inverse polynomial with the extended Euclidean algorithm, exactly as for the integer case.\n",
    "\n",
    "Let's implement the extended Euclidean algorithm for polynomials:"
   ]
  },
  {
   "cell_type": "code",
   "execution_count": 9,
   "id": "4137489d",
   "metadata": {},
   "outputs": [],
   "source": [
    "def xgcd_polynomial(a: GFpPolynomial, b: GFpPolynomial):\n",
    "    \"\"\"Extended Euclidean Algorithm (Iterative)\n",
    "\n",
    "    Args:\n",
    "        a: GFpPolynomial\n",
    "        b: GFpPolynomial\n",
    "\n",
    "    We can represent gcd(a,b) = a.x + b.y\n",
    "    This function returns gcd(a, b), x, y\n",
    "    \"\"\"\n",
    "    assert a != GFpPolynomial(0,p=a.p)\n",
    "    assert b != GFpPolynomial(0,p=b.p)\n",
    "    assert a.p == b.p\n",
    "\n",
    "    sprev, s = GFpPolynomial(0,p=a.p), GFpPolynomial(1,p=a.p)\n",
    "    tprev, t = GFpPolynomial(1,p=a.p), GFpPolynomial(0,p=a.p)\n",
    "\n",
    "    while b!=GFpPolynomial(0,p=a.p):\n",
    "        if a == GFpPolynomial(0,p=a.p):\n",
    "            return b,sprev,tprev\n",
    "        \n",
    "        q,r = find_polynomial_modulo_decomposition(b,a)\n",
    "        assert q*a+r == b\n",
    "        s, sprev = sprev - q * s, s\n",
    "        t, tprev = tprev - q * t, t\n",
    "        \n",
    "        b, a = a, r\n",
    "        \n",
    "    return a, sprev, tprev\n",
    "    \n",
    "def inverse_polynomial(a: GFpPolynomial, n: GFpPolynomial):\n",
    "    \"\"\"Modular Multiplicative Inverse for polynomials\n",
    "\n",
    "    Args:\n",
    "        a: polynomial whose inverse is to be found\n",
    "        n: modular base\n",
    "    \"\"\"\n",
    "    g, x, y = xgcd_polynomial(a, n)\n",
    "\n",
    "    if g != GFpPolynomial(1,p=a.p):\n",
    "        raise Exception(\"Inverse does not exist.\")\n",
    "    \n",
    "    assert find_polynomial_modulo_decomposition(x*a,n)[1]==GFpPolynomial(1,p=a.p)\n",
    "    \n",
    "    return x"
   ]
  },
  {
   "cell_type": "markdown",
   "id": "a0ee60a3",
   "metadata": {},
   "source": [
    "**Example:**"
   ]
  },
  {
   "cell_type": "code",
   "execution_count": 10,
   "id": "753b673f",
   "metadata": {},
   "outputs": [
    {
     "name": "stdout",
     "output_type": "stream",
     "text": [
      "Y:  1*x^7+1*x^6+1*x^5+4*x^4+1*x^3+0*x^2+1*x^1+4\n",
      "A:  2*x^3+2*x^2+1*x^1+4\n",
      "A_inv:  2*x^6+3*x^5+3*x^4+2*x^3+4*x^2+0*x^1+3\n",
      "A*A_inv mod Y:  1\n"
     ]
    }
   ],
   "source": [
    "Y = GFpPolynomial([4,1,0,1,4,1,1,1],5)\n",
    "print(\"Y: \", Y)\n",
    "print(\"A: \", A)\n",
    "\n",
    "A_inv = inverse_polynomial(A,Y)\n",
    "Q,R = find_polynomial_modulo_decomposition(A_inv * A,Y)\n",
    "print(\"A_inv: \", A_inv)\n",
    "print(\"A*A_inv mod Y: \", R)"
   ]
  },
  {
   "cell_type": "markdown",
   "id": "b28a5d6a",
   "metadata": {},
   "source": [
    "**With this, we can implement $GF(p^n)$ now:**"
   ]
  },
  {
   "cell_type": "code",
   "execution_count": 11,
   "id": "382ad35c",
   "metadata": {},
   "outputs": [],
   "source": [
    "class PolynomialFieldElement:\n",
    "    def __init__(self,element: GFpPolynomial, mod_polynomial: GFpPolynomial):\n",
    "        element = find_polynomial_modulo_decomposition(element,mod_polynomial)[1]\n",
    "        self.el_polynomial = element\n",
    "        self.mod_polynomial = mod_polynomial\n",
    "        \n",
    "        assert self.el_polynomial.p == self.mod_polynomial.p,\\\n",
    "            \"Finite field is not the same.\"\n",
    "        assert self.el_polynomial.degree < self.mod_polynomial.degree\n",
    "        \n",
    "    def __str__(self):\n",
    "        return str(self.el_polynomial)+\" mod \"+str(self.mod_polynomial)\n",
    "    \n",
    "    def __add__(self, field_polynomial):\n",
    "        assert self.mod_polynomial == field_polynomial.mod_polynomial, \\\n",
    "            \"Modulo polynomial must be the same if you add two polynomials.\"\n",
    "        \n",
    "        sum_no_modulo = self.el_polynomial + field_polynomial.el_polynomial\n",
    "        \n",
    "        return PolynomialFieldElement(sum_no_modulo,mod_polynomial=self.mod_polynomial)\n",
    "    \n",
    "    def __sub__(self, field_polynomial):\n",
    "        assert self.mod_polynomial == field_polynomial.mod_polynomial, \\\n",
    "            \"Modulo polynomial must be the same if you substract two polynomials.\"\n",
    "        \n",
    "        sub_no_modulo = self.el_polynomial - field_polynomial.el_polynomial\n",
    "        \n",
    "        return PolynomialFieldElement(sub_no_modulo,mod_polynomial=self.mod_polynomial)\n",
    "    \n",
    "    def __mul__(self, field_polynomial):\n",
    "        assert self.mod_polynomial == field_polynomial.mod_polynomial, \\\n",
    "            \"Modulo polynomial must be the same if you multiply two polynomials.\"\n",
    "        \n",
    "        prod_no_modulo = self.el_polynomial * field_polynomial.el_polynomial\n",
    "        \n",
    "        return PolynomialFieldElement(prod_no_modulo,mod_polynomial=self.mod_polynomial)\n",
    "\n",
    "    def __eq__(self, field_polynomial):\n",
    "        if isinstance(field_polynomial,int):\n",
    "            constant_polynomial = GFpPolynomial([field_polynomial],p=self.el_polynomial.p)\n",
    "            field_polynomial = PolynomialFieldElement(constant_polynomial,\n",
    "                                                      self.mod_polynomial)\n",
    "        if self.el_polynomial != field_polynomial.el_polynomial:\n",
    "            return False\n",
    "        if self.mod_polynomial != field_polynomial.mod_polynomial:\n",
    "            return False\n",
    "        return True\n",
    "    \n",
    "    def __pow__(self, power: int):\n",
    "        cum_prod = PolynomialFieldElement(GFpPolynomial(1,p=self.el_polynomial.p),self.mod_polynomial)\n",
    "        exponent = PolynomialFieldElement(self.el_polynomial,self.mod_polynomial)\n",
    "        while power>0:\n",
    "            if power % 2:\n",
    "                cum_prod = cum_prod * exponent\n",
    "            exponent = exponent * exponent\n",
    "            power = power //2\n",
    "        return cum_prod\n",
    "    \n",
    "    def inverse(self):\n",
    "        inverse_el_polynomial = inverse_polynomial(self.el_polynomial,self.mod_polynomial)\n",
    "        return PolynomialFieldElement(inverse_el_polynomial,self.mod_polynomial)"
   ]
  },
  {
   "cell_type": "markdown",
   "id": "4868feef",
   "metadata": {},
   "source": [
    "**Example:**"
   ]
  },
  {
   "cell_type": "code",
   "execution_count": 12,
   "id": "dee3ca44",
   "metadata": {},
   "outputs": [
    {
     "name": "stdout",
     "output_type": "stream",
     "text": [
      "A:  2*x^3+2*x^2+1*x^1+4\n",
      "B:  4*x^7+3*x^6+3*x^5+1*x^4+4*x^3+0*x^2+2*x^1+1\n",
      "Y:  1*x^7+1*x^6+1*x^5+4*x^4+1*x^3+0*x^2+1*x^1+4\n",
      "\n",
      "A mod Y:  2*x^3+2*x^2+1*x^1+4 mod 1*x^7+1*x^6+1*x^5+4*x^4+1*x^3+0*x^2+1*x^1+4\n",
      "B mod Y:  4*x^6+4*x^5+0*x^4+0*x^3+0*x^2+3*x^1+0 mod 1*x^7+1*x^6+1*x^5+4*x^4+1*x^3+0*x^2+1*x^1+4\n",
      "\n",
      "A+B mod Y:  4*x^6+4*x^5+0*x^4+2*x^3+2*x^2+4*x^1+4 mod 1*x^7+1*x^6+1*x^5+4*x^4+1*x^3+0*x^2+1*x^1+4\n",
      "A*B mod Y:  4*x^6+0*x^5+4*x^4+2*x^3+3*x^2+4*x^1+1 mod 1*x^7+1*x^6+1*x^5+4*x^4+1*x^3+0*x^2+1*x^1+4\n",
      "A_inv mod Y:  2*x^6+3*x^5+3*x^4+2*x^3+4*x^2+0*x^1+3 mod 1*x^7+1*x^6+1*x^5+4*x^4+1*x^3+0*x^2+1*x^1+4\n",
      "A_inv*A mod Y:  1 mod 1*x^7+1*x^6+1*x^5+4*x^4+1*x^3+0*x^2+1*x^1+4\n"
     ]
    }
   ],
   "source": [
    "A_mod_Y = PolynomialFieldElement(A,Y)\n",
    "B_mod_Y = PolynomialFieldElement(B,Y)\n",
    "\n",
    "print(\"A: \", A)\n",
    "print(\"B: \", B)\n",
    "print(\"Y: \", Y)\n",
    "print()\n",
    "print(\"A mod Y: \", A_mod_Y)\n",
    "print(\"B mod Y: \", B_mod_Y)\n",
    "print()\n",
    "print(\"A+B mod Y: \", A_mod_Y+B_mod_Y)\n",
    "print(\"A*B mod Y: \", A_mod_Y*B_mod_Y)\n",
    "print(\"A_inv mod Y: \", A_mod_Y.inverse())\n",
    "print(\"A_inv*A mod Y: \", A_mod_Y*A_mod_Y.inverse())"
   ]
  },
  {
   "cell_type": "markdown",
   "id": "9bbebf41",
   "metadata": {},
   "source": [
    "## 1.4. The Galois field $GF(2^8)=GF(256)$\n",
    "\n",
    "A byte has $8$ bits, therefore there are $2^8$ possible elements in a byte. In particular, we can associate each byte $b=b_7b_6b_5b_4b_3b_2b_1b_0$ with the polynomial class:\n",
    "    $$b = b_7 X^7+b_6X^6+b_5X^5+b_4X^4+b_3X^3+b_2X^2+b_1X+b_0\\text{ mod }q(X)\\in GF(2^8)$$\n",
    "\n",
    "\n",
    "We define arithmetic on bytes by the arithmetic on $GF(2^8)$ and implement it directly to simplify downstream calculations. The irreducible polynomial we use here is:\n",
    "$$q(X) = X^8+X^4+X^3+X+1$$\n",
    "\n",
    "Let's implement this:"
   ]
  },
  {
   "cell_type": "code",
   "execution_count": 13,
   "id": "371c44d4",
   "metadata": {},
   "outputs": [],
   "source": [
    "class GF256Element(PolynomialFieldElement):\n",
    "    irred_polynomial = GFpPolynomial(coefficients=np.array([1,1,0,1,1,0,0,0,1]),p=2)\n",
    "    n = 8\n",
    "    def __init__(self, bits: List[Literal[0,1]]):\n",
    "\n",
    "        element = GFpPolynomial(coefficients=bits,p=2)\n",
    "        \n",
    "        super().__init__(element,self.irred_polynomial)\n",
    "        \n",
    "        self.bits = self.el_polynomial.coefficients\n",
    "    \n",
    "    def _expand_bits(self):\n",
    "        \"\"\"Function to expand bits to length 8\"\"\"\n",
    "        output = list(self.bits.copy())\n",
    "        for idx in range(self.n-len(self.bits)):\n",
    "            output.append(0)\n",
    "        return np.array(output)\n",
    "    \n",
    "    def __str__(self):\n",
    "        \n",
    "        return \"\".join(self._expand_bits()[::-1].astype('str').tolist())\n",
    "    \n",
    "    def __add__(self, field_polynomial: PolynomialFieldElement):            \n",
    "        assert self.n == field_polynomial.n, \\\n",
    "            \"Number of bits must be equal\"\n",
    "        \n",
    "        sum_ = super().__add__(field_polynomial)\n",
    "        \n",
    "        return GF256Element(sum_.el_polynomial.coefficients)\n",
    "        \n",
    "    \n",
    "    def __sub__(self, field_polynomial: PolynomialFieldElement):\n",
    "        assert self.n == field_polynomial.n, \\\n",
    "            \"Number of bits must be equal\"\n",
    "        \n",
    "        sub_ = super().__sub__(field_polynomial)\n",
    "        \n",
    "        return GF256Element(sub_.el_polynomial.coefficients)\n",
    "        \n",
    "    \n",
    "    def __mul__(self, field_polynomial: PolynomialFieldElement):\n",
    "        assert self.n == field_polynomial.n, \\\n",
    "            \"Number of bits must be equal\"\n",
    "        \n",
    "        prod_ = super().__mul__(field_polynomial)\n",
    "        \n",
    "        return GF256Element(prod_.el_polynomial.coefficients)\n",
    "    \n",
    "    def __pow__(self, power: int):\n",
    "        power_ = super().__pow__(power)\n",
    "        return GF256Element(power_.el_polynomial.coefficients)\n",
    "    \n",
    "    def inverse(self):\n",
    "        inverse_ = super().inverse()\n",
    "        return GF256Element(inverse_.el_polynomial.coefficients)\n",
    "    \n",
    "    @property\n",
    "    def hex_rep(self):\n",
    "        bit_reverse = \"\".join(np.array(self._expand_bits()).astype('str'))[::-1]\n",
    "        hex_first = hex(int(bit_reverse[:4],2))[-1]\n",
    "        hex_sec = hex(int(bit_reverse[4:],2))[-1]\n",
    "    \n",
    "        return hex_first + hex_sec\n",
    "    \n",
    "    def from_hex_rep(hex_rep):\n",
    "        assert len(hex_rep) == 2\n",
    "        return GF256Element(GF256Element.get_bin(int(hex_rep,16)))\n",
    "    \n",
    "    @staticmethod\n",
    "    def get_bin(x, n=0):\n",
    "        \"\"\"\n",
    "        Get the binary representation of x of length n (by padding with zeros)\n",
    "        \"\"\"\n",
    "        string = format(x, 'b').zfill(n)\n",
    "        return np.array([int(x) for x in list(string)])[::-1]"
   ]
  },
  {
   "cell_type": "code",
   "execution_count": 14,
   "id": "04d8e50a",
   "metadata": {},
   "outputs": [],
   "source": [
    "el_1 = GF256Element([1,1,0,0,0,0,0,0])\n",
    "el_2 = GF256Element([1,1,0,0,0,0,0,0])\n",
    "el_3 = GF256Element([0,1,0,0,0,0,1,1])"
   ]
  },
  {
   "cell_type": "code",
   "execution_count": 15,
   "id": "7d770b9d",
   "metadata": {},
   "outputs": [
    {
     "name": "stdout",
     "output_type": "stream",
     "text": [
      "00000000\n",
      "00000101\n",
      "01011101\n"
     ]
    }
   ],
   "source": [
    "print(el_1+el_2)\n",
    "print(el_1*el_2)\n",
    "print(el_1*el_3)"
   ]
  },
  {
   "cell_type": "markdown",
   "id": "51fdfc74",
   "metadata": {},
   "source": [
    "### 1.5. Hex-representation"
   ]
  },
  {
   "cell_type": "markdown",
   "id": "bfa7462c",
   "metadata": {},
   "source": [
    "We can represent a byte $b=b_7b_6\\dots b_1b_0$ in hex-representation splitting it into two halfs $b=b_{7:4}b_{3:0}$ and replacing $b_{7:4},b_{3:0}$ with strings from the following mapping:\n",
    "- 0000->\"0\"\n",
    "- 0001->\"1\"\n",
    "- 0010->\"2\"\n",
    "- 0011->\"3\"\n",
    "- 0100->\"4\"\n",
    "- 0101->\"5\"\n",
    "- 0110->\"6\"\n",
    "- 0111->\"7\"\n",
    "- 1000->\"8\"\n",
    "- 1001->\"9\"\n",
    "- 1010->\"a\"\n",
    "- 1011->\"b\"\n",
    "- 1100->\"c\"\n",
    "- 1101->\"d\"\n",
    "- 1110->\"e\"\n",
    "- 1111->\"f\"\n",
    "\n",
    "For example, the byte $b=11000111_2$ would be split into $1100_2->c$ and $0111_2->7$, so the hex-representation of $b$ would be $b=$`c7`."
   ]
  },
  {
   "cell_type": "code",
   "execution_count": 16,
   "id": "19cedc28",
   "metadata": {},
   "outputs": [
    {
     "name": "stdout",
     "output_type": "stream",
     "text": [
      "11000111\n"
     ]
    }
   ],
   "source": [
    "print(GF256Element.from_hex_rep(\"c7\"))"
   ]
  },
  {
   "cell_type": "markdown",
   "id": "4986b58e",
   "metadata": {},
   "source": [
    "**Summary:** We have defined a way to \"do math\" with bytes, i.e. to multiply, add, or invert them by defining them as elements in the Galois field $GF(2^8)$."
   ]
  },
  {
   "cell_type": "markdown",
   "id": "36a74ce5",
   "metadata": {},
   "source": [
    "## 2. The AES operations"
   ]
  },
  {
   "cell_type": "markdown",
   "id": "393bbd74",
   "metadata": {},
   "source": [
    "AES considers the task of encryption $128$-bit messages $[b_0,b_1,\\dots,b_{127}]$. First, AES converts a 128-bit message $[b_0,b_1,\\dots,b_{127}]$ into 16 $8$-bit bytes $d=[c_0,c_1,\\dots,c_{16}]$ where we consider $c_i\\in GF(2^8)$. Often, we reshape the vector $d$ into a quadratic (\"block\") matrix in a column-first fashion:\n",
    "$$\n",
    "d = \\begin{pmatrix}\n",
    "c_0 & c_4 & c_8 & c_{12} \\\\\n",
    "c_1 & c_5 & c_9 & c_{13} \\\\\n",
    "c_2 & c_6 & c_{10} & c_{14} \\\\\n",
    "c_3 & c_7 & c_{11} & c_{15} \\\\\n",
    "\\end{pmatrix}\n",
    "$$\n",
    "\n",
    "There are 4 operations that modify the matrix $d$:\n",
    "1. `ByeSub`: this operations substitutes each $c_i$ with a lookup value $S(c_i)\\in GF(2^8)$. In particular, it acts on each byte independently!\n",
    "2. `ShiftRows`: this operation permutes the rows.\n",
    "3. `MixColumns`: this operation mixes the values of the columns.\n",
    "4. `AddRoundKey`: this operations adds (i.e. `XOR` operation) a key to the current $d$, i.e. $d=d+k$ where $k$ is computed via key expansion (see next chapter)."
   ]
  },
  {
   "cell_type": "markdown",
   "id": "71afd486",
   "metadata": {},
   "source": [
    "### 2.1. The ByteSub transformation: Rijndael's S-box"
   ]
  },
  {
   "cell_type": "markdown",
   "id": "800f8668",
   "metadata": {},
   "source": [
    "Rijndael's substition box (S-box) substitues a value $c\\in GF(2^8)$ as follows: compute the modular inverse $b=c^{-1}\\in GF(2^8)$. Represent $b$ as bits $b=[b_0,b_1,\\dots,b_7]$ in $GF(2^8)$ and then compute the following affine transformation in the vector space of $GF(2)$:"
   ]
  },
  {
   "cell_type": "markdown",
   "id": "97baf70c",
   "metadata": {},
   "source": [
    "$$\\begin{pmatrix}s_0 \\\\ s_1 \\\\ s_2 \\\\ s_3 \\\\ s_4 \\\\ s_5 \\\\ s_6 \\\\ s_7 \\end{pmatrix} = \\begin{pmatrix}\n",
    "1 & 0 & 0 & 0 & 1 & 1 & 1 & 1 \\\\\n",
    "1 & 1 & 0 & 0 & 0 & 1 & 1 & 1 \\\\\n",
    "1 & 1 & 1 & 0 & 0 & 0 & 1 & 1 \\\\\n",
    "1 & 1 & 1 & 1 & 0 & 0 & 0 & 1 \\\\\n",
    "1 & 1 & 1 & 1 & 1 & 0 & 0 & 0 \\\\\n",
    "0 & 1 & 1 & 1 & 1 & 1 & 0 & 0 \\\\\n",
    "0 & 0 & 1 & 1 & 1 & 1 & 1 & 0 \\\\\n",
    "0 & 0 & 0 & 1 & 1 & 1 & 1 & 1 \\\\\n",
    "\\end{pmatrix}\\begin{pmatrix}b_0 \\\\ b_1 \\\\ b_2 \\\\ b_3 \\\\ b_4 \\\\ b_5 \\\\ b_6 \\\\ b_7 \\end{pmatrix}+\n",
    "\\begin{pmatrix}1 \\\\ 1 \\\\ 0 \\\\ 0 \\\\ 0 \\\\ 1 \\\\ 1 \\\\ 0 \\end{pmatrix}$$"
   ]
  },
  {
   "cell_type": "markdown",
   "id": "939c7f64",
   "metadata": {},
   "source": [
    "Finally, set $S(c)=[s_0,...,s_7]$."
   ]
  },
  {
   "cell_type": "markdown",
   "id": "123cb1a7",
   "metadata": {},
   "source": [
    "The inverse of that operation is easily computed by:"
   ]
  },
  {
   "cell_type": "markdown",
   "id": "e59fa12b",
   "metadata": {},
   "source": [
    "$$\\begin{pmatrix}b_0 \\\\ b_1 \\\\ b_2 \\\\ b_3 \\\\ b_4 \\\\ b_5 \\\\ b_6 \\\\ b_7 \\end{pmatrix}\n",
    " = \\begin{pmatrix}\n",
    "0 & 0 & 1 & 0 & 0 & 1 & 0 & 1 \\\\\n",
    "1 & 0 & 0 & 1 & 0 & 0 & 1 & 0 \\\\\n",
    "0 & 1 & 0 & 0 & 1 & 0 & 0 & 1 \\\\\n",
    "1 & 0 & 1 & 0 & 0 & 1 & 0 & 0 \\\\\n",
    "0 & 1 & 0 & 1 & 0 & 0 & 1 & 0 \\\\\n",
    "0 & 0 & 1 & 0 & 1 & 0 & 0 & 1 \\\\\n",
    "1 & 0 & 0 & 1 & 0 & 1 & 0 & 0 \\\\\n",
    "0 & 1 & 0 & 0 & 1 & 0 & 1 & 0 \\\\\n",
    "\\end{pmatrix}\\begin{pmatrix}s_0 \\\\ s_1 \\\\ s_2 \\\\ s_3 \\\\ s_4 \\\\ s_5 \\\\ s_6 \\\\ s_7 \\end{pmatrix} +\n",
    "\\begin{pmatrix}1 \\\\ 0 \\\\ 1 \\\\ 0 \\\\ 0 \\\\ 0 \\\\ 0 \\\\ 0 \\end{pmatrix}$$"
   ]
  },
  {
   "cell_type": "markdown",
   "id": "d84061a4",
   "metadata": {},
   "source": [
    "**This operation is important because it makes the cipher highly non-linear and \"non-differentiable\"** (i.e. we cannot approximate it with an affine function and we cannot solve the cipher by study how differences in the input lead to difference in the output).\n",
    "\n",
    "In cryptography terminology, the Rijndael's S-box step is therefore the primary source of [confusion](https://en.wikipedia.org/wiki/Confusion_and_diffusion) in the cipher."
   ]
  },
  {
   "cell_type": "markdown",
   "id": "cac9b95a",
   "metadata": {},
   "source": [
    "### 2.2. ShiftRows Operation\n",
    "\n",
    "This operation simply shifts row $i=0,1,2,3$ by $i$ indices backwards:\n",
    "$$\n",
    "\\text{ShiftRows}\\left(\\begin{pmatrix}\n",
    "c_0 & c_4 & c_8 & c_{12} \\\\\n",
    "c_1 & c_5 & c_9 & c_{13} \\\\\n",
    "c_2 & c_6 & c_{10} & c_{14} \\\\\n",
    "c_3 & c_7 & c_{11} & c_{15} \\\\\n",
    "\\end{pmatrix}\\right) = \n",
    "\\begin{pmatrix}\n",
    "c_0 & c_4 & c_8 & c_{12} \\\\\n",
    "c_5 & c_9 & c_{13} & c_{1} \\\\\n",
    "c_{10} & c_{14} & c_{2} & c_{6} \\\\\n",
    "c_{15} & c_{3} & c_{7} & c_{11} \\\\\n",
    "\\end{pmatrix}\n",
    "$$\n",
    "\n",
    "**This operation is important because it allows to mix columns with each other.** Without this operation, we would simply generate 4 independent block ciphers (one per column)."
   ]
  },
  {
   "cell_type": "markdown",
   "id": "0c181584",
   "metadata": {},
   "source": [
    "### 2.3. MixColumns Operation"
   ]
  },
  {
   "cell_type": "markdown",
   "id": "8edff01a",
   "metadata": {},
   "source": [
    "We apply a matrix multiplication to every column vector to \"mix\" elements in different rows (mixing here means that that values influence each other). This boils down to the following operation:\n",
    "$$\\text{MixColumns}(d) = \\begin{pmatrix}\n",
    "2 & 3 & 1 & 1 \\\\\n",
    "1 & 2 & 3 & 1 \\\\\n",
    "1 & 1 & 2 & 3 \\\\\n",
    "3 & 1 & 1 & 2 \\\\\n",
    "\\end{pmatrix}*\\begin{pmatrix}\n",
    "c_0 & c_4 & c_8 & c_{12} \\\\\n",
    "c_1 & c_5 & c_9 & c_{13} \\\\\n",
    "c_2 & c_6 & c_{10} & c_{14} \\\\\n",
    "c_3 & c_7 & c_{11} & c_{15} \\\\\n",
    "\\end{pmatrix}$$\n",
    "**Note:** integers $1,2,3$ are here considered as corresponding elements in $GF(2^8)$ with the same bit representation, e.g. \n",
    "\\begin{align*}\n",
    "    3 = 00000011_{2} = X+1 \\text{ mod }X^8+X^4+X^3+X+1\n",
    "\\end{align*}\n",
    "The inverse can be efficiently computed by\n",
    "$$\\text{MixColumns}^{-1}(d) = \\begin{pmatrix}\n",
    "14 & 11 & 13 & 9 \\\\\n",
    "9 & 14 & 11 & 13 \\\\\n",
    "13 & 9 & 14 & 11 \\\\\n",
    "11 & 13 & 9 & 14 \\\\\n",
    "\\end{pmatrix}*\\begin{pmatrix}\n",
    "c_0 & c_4 & c_8 & c_{12} \\\\\n",
    "c_1 & c_5 & c_9 & c_{13} \\\\\n",
    "c_2 & c_6 & c_{10} & c_{14} \\\\\n",
    "c_3 & c_7 & c_{11} & c_{15} \\\\\n",
    "\\end{pmatrix}$$\n",
    "\n",
    "**This operation is important because it allows to mix rows with each other.** Without this operation, we would simply generate 4 independent block ciphers (one per row).\n",
    "\n",
    "In cryptography terminology, the MixColumns and ShiftRows steps are the two sources of [diffusion](https://en.wikipedia.org/wiki/Confusion_and_diffusion) in the cipher."
   ]
  },
  {
   "cell_type": "markdown",
   "id": "04c35a28",
   "metadata": {},
   "source": [
    "### 2.4. AddRoundKey Operation"
   ]
  },
  {
   "cell_type": "markdown",
   "id": "69b6b9d7",
   "metadata": {},
   "source": [
    "Finally, we need an operation that depends on a key, i.e. something we can keep private. This operation is simple: we add the key $k$ to the message which corresponds to an `XOR` operation:\n",
    "    $$\\text{AddRoundKey}(d,k) = d+k$$"
   ]
  },
  {
   "cell_type": "markdown",
   "id": "9acf452d",
   "metadata": {},
   "source": [
    "### 2.5. Implementation"
   ]
  },
  {
   "cell_type": "code",
   "execution_count": 17,
   "id": "ca32c843",
   "metadata": {},
   "outputs": [],
   "source": [
    "class AesBlock:\n",
    "    \n",
    "    rijndael_bias = np.array([1,1,0,0,0,1,1,0])\n",
    "    rijndael_matrix = np.stack([np.roll(np.array([1,0,0,0,1,1,1,1]),shift=idx) \\\n",
    "                                        for idx in range(8)])  \n",
    "    \n",
    "    rijndael_bias_inv = np.array([1,0,1,0,0,0,0,0])\n",
    "    rijndael_matrix_inv = np.stack([np.roll(np.array([0,0,1,0,0,1,0,1]),shift=idx) \\\n",
    "                                        for idx in range(8)])\n",
    "    \n",
    "    mix_columns_matrix = np.stack([np.roll([GF256Element(GF256Element.get_bin(el)) for el in [2,3,1,1]],shift=idx) \\\n",
    "                                        for idx in range(4)])\n",
    "\n",
    "    mix_columns_matrix_inv = np.stack([np.roll([GF256Element(GF256Element.get_bin(el)) for el in [14,11,13,9]],shift=idx) \\\n",
    "                                        for idx in range(4)])\n",
    "    \n",
    "    def __init__(self, bits: List[Union[Literal[0,1],GF256Element]]):\n",
    "        if isinstance(bits[0],GF256Element):\n",
    "            assert len(bits) == 16\n",
    "            self.bits = bits\n",
    "        else:\n",
    "            assert len(bits)==128\n",
    "            self.bits = np.array([GF256Element(bit_list) for bit_list in bits.reshape(16,8)])\n",
    "        \n",
    "    @staticmethod\n",
    "    def convert_array_to_hex_rep(array):\n",
    "        return \"\".join([el.hex_rep for el in array])\n",
    "    \n",
    "    @property\n",
    "    def bits_int(self):\n",
    "        return np.stack([el._expand_bits() for el in self.bits])                        \n",
    "    \n",
    "    @property\n",
    "    def bits_block(self):\n",
    "        \"\"\"Reshape in column first-order as quadratic matrix\"\"\"\n",
    "        return np.transpose(self.bits.reshape(4,4),axes=[1,0]) \n",
    "    \n",
    "    @property\n",
    "    def hex_rep(self):\n",
    "        return AesBlock.convert_array_to_hex_rep(self.bits)\n",
    "    \n",
    "    def __str__(self):\n",
    "        bits_int_inv = self.bits_int[:,::-1]\n",
    "        return str(np.array([\"\".join(vec.astype('str')) for vec in bits_int_inv]).reshape(4,4).transpose())\n",
    "    \n",
    "    @staticmethod\n",
    "    def nyberg_s_box(polynomial: GFpPolynomial):\n",
    "        if polynomial == 0:\n",
    "            return polynomial\n",
    "        else:\n",
    "            return polynomial.inverse()\n",
    "        \n",
    "    @staticmethod\n",
    "    def rijndael_forward_elementwise(polynomial: GF256Element):\n",
    "        inv_bit_vec = AesBlock.nyberg_s_box(polynomial)._expand_bits()\n",
    "        result = np.dot(AesBlock.rijndael_matrix,inv_bit_vec)+AesBlock.rijndael_bias\n",
    "        return GF256Element(result)\n",
    "\n",
    "    @staticmethod\n",
    "    def rijndael_backward_elementwise(polynomial: GF256Element):\n",
    "        result = (np.dot(AesBlock.rijndael_matrix_inv,polynomial._expand_bits())+AesBlock.rijndael_bias_inv)\n",
    "        return AesBlock.nyberg_s_box(GF256Element(result))\n",
    "        \n",
    "    def rijndael_sbox_forward(self):\n",
    "        result = np.array([self.rijndael_forward_elementwise(x) for x in self.bits])\n",
    "        return AesBlock(result)\n",
    "    \n",
    "    def rijndael_sbox_backward(self):\n",
    "        result = np.array([self.rijndael_backward_elementwise(x) for x in self.bits])\n",
    "        return AesBlock(result)\n",
    "    \n",
    "    def shift_rows_forward(self):\n",
    "        result = np.stack([np.roll(self.bits_block[idx],shift=4-idx) for idx in range(4)])\n",
    "        result = result.transpose().flatten()\n",
    "        return AesBlock(result)\n",
    "    \n",
    "    def shift_rows_backward(self):\n",
    "        result = np.stack([np.roll(self.bits_block[idx],shift=idx) for idx in range(4)])\n",
    "        result = result.transpose().flatten()\n",
    "        return AesBlock(result)\n",
    "    \n",
    "    def mix_columns_forward(self):\n",
    "        result = np.dot(self.mix_columns_matrix,self.bits_block)\n",
    "        result = result.transpose().flatten()\n",
    "        return AesBlock(result)\n",
    "                                   \n",
    "    def mix_columns_backward(self):\n",
    "        result = np.dot(self.mix_columns_matrix_inv,self.bits_block)\n",
    "        result = result.transpose().flatten()\n",
    "        return AesBlock(result)\n",
    "    \n",
    "    def add_round_key(self, round_key: List[GF256Element]):\n",
    "        result = self.bits + round_key\n",
    "        return AesBlock(result)\n",
    "                                   \n",
    "    def __eq__(self, block):\n",
    "        return (self.bits_int == block.bits_int).all()\n",
    "    \n",
    "    @staticmethod\n",
    "    def convert_hex_vec_to_bit_key(key_hex):\n",
    "        key_hex = np.array(list(key_hex)).reshape(-1,2)\n",
    "        key = []\n",
    "        for el in key_hex:\n",
    "            key = key + GF256Element.from_hex_rep(el[0]+el[1])._expand_bits().tolist()\n",
    "        return np.array(key)\n",
    "\n",
    "    @staticmethod\n",
    "    def from_hex(hex_string):\n",
    "        bit_key = AesBlock.convert_hex_vec_to_bit_key(hex_string)\n",
    "        return AesBlock(bit_key)"
   ]
  },
  {
   "cell_type": "markdown",
   "id": "7a688275",
   "metadata": {},
   "source": [
    "Let's initialize an AES block from a hex vector:"
   ]
  },
  {
   "cell_type": "code",
   "execution_count": 18,
   "id": "74fe1b36",
   "metadata": {},
   "outputs": [
    {
     "name": "stdout",
     "output_type": "stream",
     "text": [
      "[['11001111' '00010010' '11001111' '00010010']\n",
      " ['00011110' '00110001' '00011110' '00110001']\n",
      " ['11101111' '00100011' '11101111' '00100011']\n",
      " ['11111110' '10101101' '11111110' '10101101']]\n",
      "\n",
      "[['10001010' '11001001' '10001010' '11001001']\n",
      " ['01110010' '11000111' '01110010' '11000111']\n",
      " ['11011111' '00100110' '11011111' '00100110']\n",
      " ['10111011' '10010101' '10111011' '10010101']]\n",
      "\n",
      "[['10110110' '11111001' '10110110' '11111001']\n",
      " ['00100111' '10111000' '00100111' '10111000']\n",
      " ['00001101' '10001001' '00001101' '10001001']\n",
      " ['01011100' '01100101' '01011100' '01100101']]\n",
      "\n",
      "[['11001111' '00010010' '11001111' '00010010']\n",
      " ['00110001' '00011110' '00110001' '00011110']\n",
      " ['11101111' '00100011' '11101111' '00100011']\n",
      " ['10101101' '11111110' '10101101' '11111110']]\n"
     ]
    }
   ],
   "source": [
    "block = AesBlock.from_hex(\"cf1eeffe123123adcf1eeffe123123ad\")\n",
    "print(block)\n",
    "print()\n",
    "print(block.rijndael_sbox_forward())\n",
    "print()\n",
    "print(block.mix_columns_forward())\n",
    "print()\n",
    "print(block.shift_rows_forward())"
   ]
  },
  {
   "cell_type": "markdown",
   "id": "b576b511",
   "metadata": {},
   "source": [
    "## 3. The AES Key Schedule"
   ]
  },
  {
   "cell_type": "markdown",
   "id": "0d211960",
   "metadata": {},
   "source": [
    "The AES cipher operates in several **rounds** $r=1,\\dots,R$ where $R$ is the number of rounds. Each round has a different **round key** to be used for the AddRoundKey operation. The **AES key schedule** defines how these **round keys** are computed from the original key. \n",
    "\n",
    "The algorithm works as follows: an individual's key $k$ has the shape $k=[k_0,k_2,...k_{N-1}]$ where each $k_i$ is a $4$-byte word:\n",
    "$k_i=[c_i^1,c_i^2,c_i^3,c_i^4]$ with $c_i^j\\in GF(2^8)$.\n",
    "\n",
    "$N$ and $R$ depend on the AES standard that we use:\n",
    "1. AES-128: $N=4,R=10$\n",
    "2. AES-192: $N=6,R=12$\n",
    "3. AES-256: $N=8,R=14$\n",
    "\n",
    "The round keys $K_0,K_1,...,K_R$ are a concatenation of 4 4-byte words $W_1,W_2,...,W_{4*(R+1)}$, i.e. \n",
    "$$K_0=[W_1,W_2,W_3,W_4]$$\n",
    "$$K_1=[W_5,W_6,W_7,W_8]$$\n",
    "$$...$$\n",
    "\n",
    "We define the $4$-byte words $W_1,W_2,...,W_{4*(R+1)}$ as follows:\n",
    "   ```\n",
    "   if i<N:\n",
    "       W_i = k_i\n",
    "   else:\n",
    "   \n",
    "        tmp = W_{i-1}\n",
    "        \n",
    "        if i%N==0:\n",
    "            tmp = SubWord(RotWord(tmp))+RoundConstant(i/N)\n",
    "        elif N==8 and i%N==4:\n",
    "            tmp = SubWord(tmp)\n",
    "   \n",
    "       W_i = W_{i-N}+tmp\n",
    "   ```\n",
    "So basically, the first N words are simply $k$. Next, each word $W_i$ is computed as $W_i=W_{i-N}+W_{i-1}$ where for $i%N=0$ we apply operations `SubWord,RotWord,RoundConstant`. These operations are defined as:\n",
    "1. `SubWord`($[c^1,c^2,c^3,c^4])=[S(c^1),S(c^2),S(c^3),S(c^4)]$ - basically the S-box applied elementwise. \n",
    "2. `RotWord`($[c^1,c^2,c^3,c^4])=[c^2,c^3,c^4,c^1]$ is a 1-shift.\n",
    "3. `RoundConstant`$(j)=X^{j-1}$ where $X=00000010_2\\in GF(2^8)$.\n",
    "\n",
    "Let's implement these functions"
   ]
  },
  {
   "cell_type": "code",
   "execution_count": 19,
   "id": "61e59114",
   "metadata": {},
   "outputs": [],
   "source": [
    "def round_constant(idx):\n",
    "    return np.array([GF256Element([0,1])**(idx-1),\n",
    "                    GF256Element(0),\n",
    "                    GF256Element(0),\n",
    "                    GF256Element(0)])\n",
    "\n",
    "def rot_word(x: np.ndarray):\n",
    "    return np.roll(x,shift=-1)\n",
    "\n",
    "def sub_word(byte_array: np.ndarray):\n",
    "    return np.array([AesBlock.rijndael_forward_elementwise(x) for x in byte_array])"
   ]
  },
  {
   "cell_type": "markdown",
   "id": "209e9aeb",
   "metadata": {},
   "source": [
    "And let's implement the key schedule"
   ]
  },
  {
   "cell_type": "code",
   "execution_count": 20,
   "id": "bfb02b32",
   "metadata": {},
   "outputs": [],
   "source": [
    "def aes_key_schedule(key: List[Literal[0,1]]):\n",
    "    \n",
    "    #Convert bit list into byte shape:\n",
    "    key = key.reshape(-1,4,8)\n",
    "    key_byte_list = []\n",
    "    for row in key:\n",
    "        row_list = []\n",
    "        for el in row:\n",
    "            row_list.append(GF256Element(el))\n",
    "        key_byte_list.append(row_list)\n",
    "    key = np.array(key_byte_list)\n",
    "    \n",
    "    #Assert correct length:\n",
    "    N = key.shape[0]\n",
    "    assert N in [4,6,8], \"Key has wrong length.\"\n",
    "    R = {4: 10, 6: 12, 8: 14}[N]\n",
    "\n",
    "    #Round keys:\n",
    "    round_key = {}\n",
    "    for idx in range(4*(R+1)):\n",
    "        \n",
    "        #First round keys are simply the keys:\n",
    "        if idx<N:\n",
    "            round_key[idx] = key[idx]\n",
    "            \n",
    "        #If idx is a multiple of N, then apply sub_word and rot_word on previous word\n",
    "        else:\n",
    "            tmp = round_key[idx-1]\n",
    "            if idx%N ==0:\n",
    "                tmp = sub_word(rot_word(tmp)) + round_constant(idx//N)\n",
    "        \n",
    "            if idx>=N and N==8 and idx%N==4:\n",
    "                tmp = sub_word(tmp)\n",
    "        \n",
    "            round_key[idx] =  round_key[idx-N] + tmp\n",
    "    \n",
    "    #Reshape by grouping 4 words together:\n",
    "    round_key = np.stack(list(round_key.values())).reshape(-1,16)\n",
    "    \n",
    "    return round_key\n",
    "    "
   ]
  },
  {
   "cell_type": "code",
   "execution_count": 21,
   "id": "ab9c5907",
   "metadata": {
    "scrolled": true
   },
   "outputs": [
    {
     "name": "stdout",
     "output_type": "stream",
     "text": [
      "(11, 16)\n",
      "10111100\n"
     ]
    }
   ],
   "source": [
    "random_key = np.random.randint(2,size=128)\n",
    "round_keys = aes_key_schedule(random_key)\n",
    "print(round_keys.shape)\n",
    "print(round_keys[0,0])"
   ]
  },
  {
   "cell_type": "markdown",
   "id": "b367b9f3",
   "metadata": {},
   "source": [
    "## 4. The AES Cipher"
   ]
  },
  {
   "cell_type": "markdown",
   "id": "1d4dfec2",
   "metadata": {},
   "source": [
    "Finally, we can come to implement the AES cipher.\n",
    "The cipher proceeds in the following steps:\n",
    "_____\n",
    "**Input:** A 128-bit message $m$. $128/192/256$-bit key $k$.\\\n",
    "**Output:** Encrypted message $AES(m)$.\n",
    "1. **Key expansion:** Compute round keys $k_0,k_1,...,k_R =\\text{KeyExpansion}(k)$ \n",
    "2. **Add initial round key:** $m=\\text{AddRoundKey}(m,k_0)$\n",
    "3. **Loop**:\n",
    "    for $i$ in $[1,...,R-1]$:\n",
    "    \n",
    "    3.1. $m=\\text{ByteSub}(m)$\\\n",
    "    3.2. $m=\\text{ShiftRows}(m)$\\\n",
    "    3.3. $m=\\text{MixColumns}(m)$\\\n",
    "    3.4. $m=\\text{AddRoundKey}(m,k_i)$\n",
    " \n",
    "\n",
    "4. **Final round without MixColumns**:\n",
    "\n",
    "   4.1. $m=\\text{ByteSub}(m)$\\\n",
    "   4.2. $m=\\text{ShiftRows}(m)$\\\n",
    "   4.3. $m=\\text{AddRoundKey}(m,k_R)$\n",
    "5. **Return $m$**\n",
    "____________________\n",
    "\n",
    "The inverse cipher simply computes the inverse operations backwards. Let's implement this:"
   ]
  },
  {
   "cell_type": "code",
   "execution_count": 22,
   "id": "8c5e9620",
   "metadata": {},
   "outputs": [],
   "source": [
    "def aes_cipher(block_message, cipher_key):\n",
    "    \n",
    "    round_keys = aes_key_schedule(cipher_key)\n",
    "\n",
    "    #Add (XOR) initial round\n",
    "    block_message = block_message.add_round_key(round_keys[0])\n",
    "\n",
    "    for round_ in range(1,round_keys.shape[0]):\n",
    "\n",
    "        block_message = block_message.rijndael_sbox_forward()\n",
    "        block_message = block_message.shift_rows_forward()\n",
    "        if round_ < round_keys.shape[0]-1:\n",
    "            block_message = block_message.mix_columns_forward()\n",
    "        block_message = block_message.add_round_key(round_keys[round_])\n",
    "        \n",
    "    return block_message\n",
    "\n",
    "def inverse_aes_cipher(block_message, cipher_key):\n",
    "    \n",
    "    round_keys = aes_key_schedule(cipher_key)\n",
    "    \n",
    "    for round_ in range(round_keys.shape[0]-1,0,-1):\n",
    "        \n",
    "        block_message = block_message.add_round_key(round_keys[round_])\n",
    "\n",
    "        if round_ < round_keys.shape[0]-1:\n",
    "            block_message = block_message.mix_columns_backward()\n",
    "        \n",
    "        block_message = block_message.shift_rows_backward()        \n",
    "        \n",
    "        block_message = block_message.rijndael_sbox_backward()\n",
    "\n",
    "    #Add (XOR) initial round\n",
    "    block_message = block_message.add_round_key(round_keys[0])\n",
    "\n",
    "    return block_message"
   ]
  },
  {
   "cell_type": "markdown",
   "id": "d40a5984",
   "metadata": {},
   "source": [
    "Let's execute some tests to check that the AES cipher we have implemented is correct. The references keys (i.e. the results that we should get) can be found in the [FIPS 197 reference](https://csrc.nist.gov/files/pubs/fips/197/final/docs/fips-197.pdf) published by the NSA to standardize AES."
   ]
  },
  {
   "cell_type": "markdown",
   "id": "72678687",
   "metadata": {},
   "source": [
    "### Test 1 (N=4, AES-128)"
   ]
  },
  {
   "cell_type": "code",
   "execution_count": 23,
   "id": "0fec7f78",
   "metadata": {},
   "outputs": [],
   "source": [
    "message = \"00112233445566778899aabbccddeeff\"\n",
    "cipher_key = \"000102030405060708090a0b0c0d0e0f\"\n",
    "reference_result = \"69c4e0d86a7b0430d8cdb78070b4c55a\"\n",
    "\n",
    "block_message = AesBlock.from_hex(message)\n",
    "bit_key = AesBlock.convert_hex_vec_to_bit_key(cipher_key)\n",
    "\n",
    "#Does encrypted message correspond to the one found in the reference?\n",
    "encrypted_message = aes_cipher(block_message,bit_key)\n",
    "assert encrypted_message.hex_rep == reference_result\n",
    "\n",
    "#Decrypt and control that result is the original one:\n",
    "inverse_message = inverse_aes_cipher(encrypted_message,bit_key)\n",
    "assert inverse_message.hex_rep == message"
   ]
  },
  {
   "cell_type": "markdown",
   "id": "01b4c15d",
   "metadata": {},
   "source": [
    "### Test 2 (N=6, AES-192)"
   ]
  },
  {
   "cell_type": "code",
   "execution_count": 24,
   "id": "7ddbb672",
   "metadata": {},
   "outputs": [],
   "source": [
    "message = \"00112233445566778899aabbccddeeff\"\n",
    "cipher_key = \"000102030405060708090a0b0c0d0e0f1011121314151617\"\n",
    "reference_result = \"dda97ca4864cdfe06eaf70a0ec0d7191\"\n",
    "\n",
    "block_message = AesBlock.from_hex(message)\n",
    "bit_key = AesBlock.convert_hex_vec_to_bit_key(cipher_key)\n",
    "\n",
    "#Does encrypted message correspond to the one found in the reference?\n",
    "encrypted_message = aes_cipher(block_message,bit_key)\n",
    "assert encrypted_message.hex_rep == reference_result\n",
    "\n",
    "#Decrypt and control that result is the original one:\n",
    "inverse_message = inverse_aes_cipher(encrypted_message,bit_key)\n",
    "assert inverse_message.hex_rep == message"
   ]
  },
  {
   "cell_type": "markdown",
   "id": "c7728766",
   "metadata": {},
   "source": [
    "### Test 3 (N=8, AES-256)\n"
   ]
  },
  {
   "cell_type": "code",
   "execution_count": 25,
   "id": "d36a322f",
   "metadata": {
    "scrolled": true
   },
   "outputs": [],
   "source": [
    "message = \"00112233445566778899aabbccddeeff\"\n",
    "cipher_key = \"000102030405060708090a0b0c0d0e0f101112131415161718191a1b1c1d1e1f\"\n",
    "reference_result = \"8ea2b7ca516745bfeafc49904b496089\"\n",
    "\n",
    "block_message = AesBlock.from_hex(message)\n",
    "bit_key = AesBlock.convert_hex_vec_to_bit_key(cipher_key)\n",
    "\n",
    "#Does encrypted message correspond to the one found in the reference?\n",
    "encrypted_message = aes_cipher(block_message,bit_key)\n",
    "assert encrypted_message.hex_rep == reference_result\n",
    "\n",
    "#Decrypt and control that result is the original one:\n",
    "inverse_message = inverse_aes_cipher(encrypted_message,bit_key)\n",
    "assert inverse_message.hex_rep == message"
   ]
  },
  {
   "cell_type": "markdown",
   "id": "e4acbe3b",
   "metadata": {},
   "source": [
    "<font color=\"red\">**Summary:** we have successfully implemented the AES algorithm!"
   ]
  },
  {
   "cell_type": "markdown",
   "id": "296e78b9",
   "metadata": {},
   "source": [
    "## 5. Exploring the AES cipher"
   ]
  },
  {
   "cell_type": "markdown",
   "id": "d86adcef",
   "metadata": {},
   "source": [
    "Finally, we want to try out and study the cipher a bit."
   ]
  },
  {
   "cell_type": "markdown",
   "id": "e64df947",
   "metadata": {},
   "source": [
    "### 5.1. Avalanche effect\n",
    "\n",
    "The [avalanche effect](https://en.wikipedia.org/wiki/Avalanche_effect#:~:text=In%20cryptography%2C%20the%20avalanche%20effect,half%20the%20output%20bits%20flip).) describes the effect that small changes in the input lead to drastic changes in the output of a cipher. More specifically, we aim therefore that if we only change the input slightly (e.g. flip one bit), all output bits change with approximately 50% probability.\n",
    "\n",
    "**Experiment 1: random messages and perturbations, fixed key**\n",
    "\n",
    "To test this, we compute $100$ random messages and perturb them slightly by flipping a random bit. We find that the output changes on average with $64=128/2$ bits."
   ]
  },
  {
   "cell_type": "code",
   "execution_count": 26,
   "id": "0f7200c0",
   "metadata": {},
   "outputs": [],
   "source": [
    "from tqdm.notebook import tqdm\n",
    "import pandas as pd\n",
    "import matplotlib.pyplot as plt"
   ]
  },
  {
   "cell_type": "code",
   "execution_count": 27,
   "id": "290d5f69",
   "metadata": {},
   "outputs": [
    {
     "data": {
      "application/vnd.jupyter.widget-view+json": {
       "model_id": "12b354274f6f48bdb6e9c7f975121514",
       "version_major": 2,
       "version_minor": 0
      },
      "text/plain": [
       "  0%|          | 0/100 [00:00<?, ?it/s]"
      ]
     },
     "metadata": {},
     "output_type": "display_data"
    },
    {
     "data": {
      "text/plain": [
       "(0.0, 128.0)"
      ]
     },
     "execution_count": 27,
     "metadata": {},
     "output_type": "execute_result"
    },
    {
     "data": {
      "image/png": "[encoded data removed]",
      "text/plain": [
       "<Figure size 640x480 with 1 Axes>"
      ]
     },
     "metadata": {},
     "output_type": "display_data"
    }
   ],
   "source": [
    "random_key = np.random.randint(2,size=128)\n",
    "n_samples = 100\n",
    "cipher_distance_list = []\n",
    "for idx in tqdm(range(n_samples)):\n",
    "    message = np.random.randint(2,size=128)\n",
    "    pert_message = message.copy()\n",
    "    idx = np.random.randint(len(message))\n",
    "    pert_message[idx] = (pert_message[idx]+1)%2\n",
    "    distance = np.abs(message-pert_message).sum()\n",
    "    \n",
    "    block_message = AesBlock(message)\n",
    "    block_message_pert = AesBlock(pert_message)\n",
    "    cipher_message = aes_cipher(block_message,random_key).bits_int.flatten()\n",
    "    cipher_pert_message = aes_cipher(block_message_pert,random_key).bits_int.flatten()\n",
    "    cipher_distance = np.abs(cipher_message-cipher_pert_message).sum()\n",
    "    cipher_distance_list.append(cipher_distance)\n",
    "    \n",
    "fig, ax = plt.subplots()\n",
    "pd.Series(cipher_distance_list).hist(ax=ax,bins=20)\n",
    "ax.set_xlabel(\"n cipher bits changed\")\n",
    "ax.set_ylabel(\"count\")\n",
    "ax.set_xlim(0,128)"
   ]
  },
  {
   "cell_type": "markdown",
   "id": "54b44c67",
   "metadata": {},
   "source": [
    "**Experiment 2: random perturbations, fixed key, fixed message**\n",
    "\n",
    "This time, we fix the message and see what happens. Are there still approximately 64 bits changing on average? Indeed, we observe the same:"
   ]
  },
  {
   "cell_type": "code",
   "execution_count": 28,
   "id": "0c4d706b",
   "metadata": {
    "scrolled": true
   },
   "outputs": [
    {
     "data": {
      "application/vnd.jupyter.widget-view+json": {
       "model_id": "ab2fd997ef9a49859e44c30cee7313ba",
       "version_major": 2,
       "version_minor": 0
      },
      "text/plain": [
       "  0%|          | 0/100 [00:00<?, ?it/s]"
      ]
     },
     "metadata": {},
     "output_type": "display_data"
    },
    {
     "data": {
      "text/plain": [
       "(0.0, 128.0)"
      ]
     },
     "execution_count": 28,
     "metadata": {},
     "output_type": "execute_result"
    },
    {
     "data": {
      "image/png": "[encoded data removed]",
      "text/plain": [
       "<Figure size 640x480 with 1 Axes>"
      ]
     },
     "metadata": {},
     "output_type": "display_data"
    }
   ],
   "source": [
    "random_key = np.random.randint(2,size=128)\n",
    "n_samples = 100\n",
    "cipher_distance_list = []\n",
    "message = np.random.randint(2,size=128)\n",
    "block_message = AesBlock(message)\n",
    "cipher_message = aes_cipher(block_message,random_key).bits_int.flatten()\n",
    "\n",
    "for idx in tqdm(range(n_samples)):\n",
    "    pert_message = message.copy()\n",
    "    idx = np.random.randint(len(message))\n",
    "    pert_message[idx] = (pert_message[idx]+1)%2\n",
    "    distance = np.abs(message-pert_message).sum()\n",
    "    \n",
    "    block_message_pert = AesBlock(pert_message)\n",
    "    cipher_pert_message = aes_cipher(block_message_pert,random_key).bits_int.flatten()\n",
    "    cipher_distance = np.abs(cipher_message-cipher_pert_message).sum()\n",
    "    cipher_distance_list.append(cipher_distance)\n",
    "    \n",
    "fig, ax = plt.subplots()\n",
    "pd.Series(cipher_distance_list).hist(ax=ax,bins=20)\n",
    "ax.set_xlabel(\"n cipher bits changed\")\n",
    "ax.set_ylabel(\"count\")\n",
    "ax.set_xlim(0,128)"
   ]
  },
  {
   "cell_type": "markdown",
   "id": "c3c5e7a6",
   "metadata": {},
   "source": [
    "**Experiment 3: random message, fixed key, fixed perturbation**\n",
    "\n",
    "Finally, we want to see what happens if we change the message but keep the bit that we are flipping. What happens to the bits? Are their changes correlated with each other? We observe no correlation :) "
   ]
  },
  {
   "cell_type": "code",
   "execution_count": 29,
   "id": "04eb09d4",
   "metadata": {
    "scrolled": true
   },
   "outputs": [
    {
     "data": {
      "application/vnd.jupyter.widget-view+json": {
       "model_id": "970e23bffd13417e81e13e97db29b7a2",
       "version_major": 2,
       "version_minor": 0
      },
      "text/plain": [
       "  0%|          | 0/200 [00:00<?, ?it/s]"
      ]
     },
     "metadata": {},
     "output_type": "display_data"
    }
   ],
   "source": [
    "random_key = np.random.randint(2,size=128)\n",
    "n_samples = 200\n",
    "cipher_difference_list = []\n",
    "idx = np.random.randint(len(message))\n",
    "\n",
    "for _ in tqdm(range(n_samples)):\n",
    "    message = np.random.randint(2,size=128)\n",
    "    pert_message = message.copy()\n",
    "    pert_message[idx] = (pert_message[idx]+1)%2\n",
    "    distance = np.abs(message-pert_message).sum()\n",
    "    \n",
    "    block_message = AesBlock(message)\n",
    "    block_message_pert = AesBlock(pert_message)\n",
    "    cipher_message = aes_cipher(block_message,random_key).bits_int.flatten()\n",
    "    cipher_pert_message = aes_cipher(block_message_pert,random_key).bits_int.flatten()\n",
    "    cipher_difference = (cipher_message+cipher_pert_message)%2\n",
    "    cipher_difference_list.append(cipher_difference)\n",
    "    \n",
    "df_results = pd.DataFrame(np.stack(cipher_difference_list))\n",
    "df_results.columns = \"bit_\"+df_results.columns.astype('str')"
   ]
  },
  {
   "cell_type": "markdown",
   "id": "ce276b9f",
   "metadata": {},
   "source": [
    "If we look at the correlation between bit positions, their correlation is zero on average with a low standard deviation (we use correlation for a proxy for stochastic independence):"
   ]
  },
  {
   "cell_type": "code",
   "execution_count": 30,
   "id": "b392f7f2",
   "metadata": {},
   "outputs": [
    {
     "data": {
      "text/plain": [
       "<Axes: >"
      ]
     },
     "execution_count": 30,
     "metadata": {},
     "output_type": "execute_result"
    },
    {
     "data": {
      "image/png": "[encoded data removed]",
      "text/plain": [
       "<Figure size 640x480 with 1 Axes>"
      ]
     },
     "metadata": {},
     "output_type": "display_data"
    }
   ],
   "source": [
    "pd.Series(df_results.corr().values.flatten()).hist(bins=100)"
   ]
  },
  {
   "cell_type": "markdown",
   "id": "d8b618b9",
   "metadata": {},
   "source": [
    "### 5.2. Outputs are randomly distributed"
   ]
  },
  {
   "cell_type": "markdown",
   "id": "48f55f5f",
   "metadata": {},
   "source": [
    "Next, we want to check that the outputs are randomly distributed for a real text:"
   ]
  },
  {
   "cell_type": "code",
   "execution_count": 31,
   "id": "f9a36656",
   "metadata": {},
   "outputs": [
    {
     "name": "stdout",
     "output_type": "stream",
     "text": [
      "Looking started he up perhaps against. How remainder all additions get elsewhere resources. One missed shy wishes supply design answer formed. Prevent on present hastily passage an subject in be. Be happiness arranging so newspaper defective affection ye. Families blessing he in to no daughter. Depart do be so he enough talent. Sociable formerly six but handsome. Up do view time they shot. He concluded disposing provision by questions as situation. Its estimating are motionless day sentiments end. Calling an imagine at forbade. At name no an what like spot. Pressed my by do affixed he studied. Shewing met parties gravity husband sex pleased. On to no kind do next feel held walk. Last own loud and knew give gay four. Sentiments motionless or principles preference excellence am. Literature surrounded insensible at indulgence or to admiration remarkably. Matter future lovers desire marked boy use. Chamber reached do he nothing be. Had strictly mrs handsome mistaken cheerful. We it so if resolution invitation remarkably unpleasant conviction. As into ye then form. To easy five less if rose were. Now set offended own out required entirely. Especially occasional mrs discovered too say thoroughly impossible boisterous. My head when real no he high rich at with. After so power of young as. Bore year does has get long fat cold saw neat. Put boy carried chiefly shy general. Way nor furnished sir procuring therefore but. Warmth far manner myself active are cannot called. Set her half end girl rich met. Me allowance departure an curiosity ye. In no talking address excited it conduct. Husbands debating replying overcame blessing he it me to domestic. Concerns greatest margaret him absolute entrance nay. Door neat week do find past he. Be no surprise he honoured indulged. Unpacked endeavor six steepest had husbands her. Painted no or affixed it so civilly. Exposed neither pressed so cottage as proceed at offices. Nay they gone sir game four. Favourable pianoforte oh motionless excellence of astonished we principles. Warrant present garrets limited cordial in inquiry to. Supported me sweetness behaviour shameless excellent so arranging. He moonlight difficult engrossed an it sportsmen. Interested has all devonshire difficulty gay assistance joy. Unaffected at ye of compliment alteration to. Place voice no arise along to. Parlors waiting so against me no. Wishing calling are warrant settled was luckily. Express besides it present if at an opinion visitor. And produce say the ten moments parties. Simple innate summer fat appear basket his desire joy. Outward clothes promise at gravity do excited. Sufficient particular impossible by reasonable oh expression is. Yet preference connection unpleasant yet melancholy but end appearance. And excellence partiality estimating terminated day everything. In as name to here them deny wise this. As rapid woody my he me which. Men but they fail shew just wish next put. Led all visitor musical calling nor her. Within coming figure sex things are. Pretended concluded did repulsive education smallness yet yet described. Had country man his pressed shewing. No gate dare rose he. Eyes year if miss he as upon. Rooms oh fully taken by worse do. Points afraid but may end law lasted. Was out laughter raptures returned outweigh. Luckily cheered colonel me do we attacks on highest enabled. Tried law yet style child. Bore of true of no be deal. Frequently sufficient in be unaffected. The furnished she concluded depending procuring concealed.\n"
     ]
    }
   ],
   "source": [
    "random_text = \"Looking started he up perhaps against. How remainder all additions get elsewhere resources. One missed shy wishes supply design answer formed. Prevent on present hastily passage an subject in be. Be happiness arranging so newspaper defective affection ye. Families blessing he in to no daughter. Depart do be so he enough talent. Sociable formerly six but handsome. Up do view time they shot. He concluded disposing provision by questions as situation. Its estimating are motionless day sentiments end. Calling an imagine at forbade. At name no an what like spot. Pressed my by do affixed he studied. Shewing met parties gravity husband sex pleased. On to no kind do next feel held walk. Last own loud and knew give gay four. Sentiments motionless or principles preference excellence am. Literature surrounded insensible at indulgence or to admiration remarkably. Matter future lovers desire marked boy use. Chamber reached do he nothing be. Had strictly mrs handsome mistaken cheerful. We it so if resolution invitation remarkably unpleasant conviction. As into ye then form. To easy five less if rose were. Now set offended own out required entirely. Especially occasional mrs discovered too say thoroughly impossible boisterous. My head when real no he high rich at with. After so power of young as. Bore year does has get long fat cold saw neat. Put boy carried chiefly shy general. Way nor furnished sir procuring therefore but. Warmth far manner myself active are cannot called. Set her half end girl rich met. Me allowance departure an curiosity ye. In no talking address excited it conduct. Husbands debating replying overcame blessing he it me to domestic. Concerns greatest margaret him absolute entrance nay. Door neat week do find past he. Be no surprise he honoured indulged. Unpacked endeavor six steepest had husbands her. Painted no or affixed it so civilly. Exposed neither pressed so cottage as proceed at offices. Nay they gone sir game four. Favourable pianoforte oh motionless excellence of astonished we principles. Warrant present garrets limited cordial in inquiry to. Supported me sweetness behaviour shameless excellent so arranging. He moonlight difficult engrossed an it sportsmen. Interested has all devonshire difficulty gay assistance joy. Unaffected at ye of compliment alteration to. Place voice no arise along to. Parlors waiting so against me no. Wishing calling are warrant settled was luckily. Express besides it present if at an opinion visitor. And produce say the ten moments parties. Simple innate summer fat appear basket his desire joy. Outward clothes promise at gravity do excited. Sufficient particular impossible by reasonable oh expression is. Yet preference connection unpleasant yet melancholy but end appearance. And excellence partiality estimating terminated day everything. In as name to here them deny wise this. As rapid woody my he me which. Men but they fail shew just wish next put. Led all visitor musical calling nor her. Within coming figure sex things are. Pretended concluded did repulsive education smallness yet yet described. Had country man his pressed shewing. No gate dare rose he. Eyes year if miss he as upon. Rooms oh fully taken by worse do. Points afraid but may end law lasted. Was out laughter raptures returned outweigh. Luckily cheered colonel me do we attacks on highest enabled. Tried law yet style child. Bore of true of no be deal. Frequently sufficient in be unaffected. The furnished she concluded depending procuring concealed.\"\n",
    "print(random_text)"
   ]
  },
  {
   "cell_type": "code",
   "execution_count": 32,
   "id": "dd3db2c8",
   "metadata": {},
   "outputs": [],
   "source": [
    "#!pip install bitarray\n",
    "import bitarray"
   ]
  },
  {
   "cell_type": "markdown",
   "id": "8cdbe85a",
   "metadata": {},
   "source": [
    "Let's convert the text into an array of 128-bit messages"
   ]
  },
  {
   "cell_type": "code",
   "execution_count": 33,
   "id": "c665ffdd",
   "metadata": {},
   "outputs": [],
   "source": [
    "ba = bitarray.bitarray()\n",
    "ba.frombytes(random_text.encode('utf-8'))\n",
    "bit_array = np.array(ba.tolist())\n",
    "new_length = len(bit_array)-len(bit_array)%128\n",
    "bit_array = bit_array[:new_length]\n",
    "bit_array = bit_array.reshape(-1,128)"
   ]
  },
  {
   "cell_type": "markdown",
   "id": "1e4299f9",
   "metadata": {},
   "source": [
    "Let's compute ciphers over the messages in the text:"
   ]
  },
  {
   "cell_type": "code",
   "execution_count": 34,
   "id": "a1290d01",
   "metadata": {},
   "outputs": [
    {
     "data": {
      "application/vnd.jupyter.widget-view+json": {
       "model_id": "b8ebb9d6656344fb89471137f292fb63",
       "version_major": 2,
       "version_minor": 0
      },
      "text/plain": [
       "  0%|          | 0/219 [00:00<?, ?it/s]"
      ]
     },
     "metadata": {},
     "output_type": "display_data"
    }
   ],
   "source": [
    "random_key = np.random.randint(2,size=128)\n",
    "cipher_difference_list = []\n",
    "idx = np.random.randint(len(message))\n",
    "cipher_message_list = []\n",
    "for idx in tqdm(range(bit_array.shape[0])):\n",
    "    message = bit_array[idx]\n",
    "    block_message = AesBlock(message)\n",
    "    cipher_message = aes_cipher(block_message,random_key).bits_int.flatten()\n",
    "    cipher_message_list.append(cipher_message)"
   ]
  },
  {
   "cell_type": "markdown",
   "id": "78f982cd",
   "metadata": {},
   "source": [
    "We observe that all bits are approximately 0/1 with 50% chance"
   ]
  },
  {
   "cell_type": "code",
   "execution_count": 35,
   "id": "a1d25bb8",
   "metadata": {
    "scrolled": true
   },
   "outputs": [
    {
     "data": {
      "text/plain": [
       "Text(0.5, 0, 'share of ciphers with bit_i=1')"
      ]
     },
     "execution_count": 35,
     "metadata": {},
     "output_type": "execute_result"
    },
    {
     "data": {
      "image/png": "[encoded data removed]",
      "text/plain": [
       "<Figure size 640x480 with 1 Axes>"
      ]
     },
     "metadata": {},
     "output_type": "display_data"
    }
   ],
   "source": [
    "fig, ax = plt.subplots()\n",
    "stacked_ciphers = np.stack(cipher_message_list)\n",
    "ax.hist(stacked_ciphers.mean(axis=0),bins=50);\n",
    "ax.set_xlim(0,1.0)\n",
    "ax.set_xlabel(\"share of ciphers with bit_i=1\")"
   ]
  },
  {
   "cell_type": "markdown",
   "id": "6a8e8ec0",
   "metadata": {},
   "source": [
    "**We also observe that the correlation between bits is almost 0 for all bits:**"
   ]
  },
  {
   "cell_type": "code",
   "execution_count": 36,
   "id": "417e4acc",
   "metadata": {},
   "outputs": [
    {
     "data": {
      "image/png": "[encoded data removed]",
      "text/plain": [
       "<Figure size 640x480 with 1 Axes>"
      ]
     },
     "metadata": {},
     "output_type": "display_data"
    }
   ],
   "source": [
    "fig, ax = plt.subplots()\n",
    "ax.hist(pd.DataFrame(stacked_ciphers).corr().values.flatten(),bins=100);"
   ]
  },
  {
   "cell_type": "code",
   "execution_count": 5,
   "id": "8d59cf14-fff5-4663-9af9-948f0cae8ed9",
   "metadata": {},
   "outputs": [
    {
     "ename": "ValueError",
     "evalue": "high is out of bounds for int64",
     "output_type": "error",
     "traceback": [
      "\u001b[0;31m---------------------------------------------------------------------------\u001b[0m",
      "\u001b[0;31mValueError\u001b[0m                                Traceback (most recent call last)",
      "Cell \u001b[0;32mIn[5], line 2\u001b[0m\n\u001b[1;32m      1\u001b[0m \u001b[38;5;28;01mimport\u001b[39;00m \u001b[38;5;21;01mnumpy\u001b[39;00m \u001b[38;5;28;01mas\u001b[39;00m \u001b[38;5;21;01mnp\u001b[39;00m\n\u001b[0;32m----> 2\u001b[0m \u001b[43mnp\u001b[49m\u001b[38;5;241;43m.\u001b[39;49m\u001b[43mrandom\u001b[49m\u001b[38;5;241;43m.\u001b[39;49m\u001b[43mrandint\u001b[49m\u001b[43m(\u001b[49m\u001b[38;5;241;43m2e100\u001b[39;49m\u001b[43m)\u001b[49m\n",
      "File \u001b[0;32mmtrand.pyx:781\u001b[0m, in \u001b[0;36mnumpy.random.mtrand.RandomState.randint\u001b[0;34m()\u001b[0m\n",
      "File \u001b[0;32m_bounded_integers.pyx:1332\u001b[0m, in \u001b[0;36mnumpy.random._bounded_integers._rand_int64\u001b[0;34m()\u001b[0m\n",
      "\u001b[0;31mValueError\u001b[0m: high is out of bounds for int64"
     ]
    }
   ],
   "source": [
    "import numpy as np\n",
    "np.random.randint(2e100)"
   ]
  },
  {
   "cell_type": "code",
   "execution_count": null,
   "id": "7d35f59e-1faf-4e79-8cd3-acad53a81cd2",
   "metadata": {},
   "outputs": [],
   "source": []
  }
 ],
 "metadata": {
  "kernelspec": {
   "display_name": "Python 3 (ipykernel)",
   "language": "python",
   "name": "python3"
  },
  "language_info": {
   "codemirror_mode": {
    "name": "ipython",
    "version": 3
   },
   "file_extension": ".py",
   "mimetype": "text/x-python",
   "name": "python",
   "nbconvert_exporter": "python",
   "pygments_lexer": "ipython3",
   "version": "3.9.6"
  },
  "uuid": "2cdd4964-93ce-4015-8d15-9d8ee3b9d3c3"
 },
 "nbformat": 4,
 "nbformat_minor": 5
}
