{
 "cells": [
  {
   "cell_type": "markdown",
   "id": "f2c7d240",
   "metadata": {},
   "source": [
    "# RSA from scratch - A Hands-on Tutorial on RSA encryption"
   ]
  },
  {
   "cell_type": "markdown",
   "id": "523df211",
   "metadata": {},
   "source": [
    "In the following, you will find an introduction to the [RSA cryptosystem](https://en.wikipedia.org/wiki/RSA_(cryptosystem)). The RSA cryptosystem was one of the first widely used public-key encryption schemes and is still heavily in use today, e.g. RSA is still seen in a range of web browsers, email, or VPNs and also used for connections such as `ssh`. Therefore, it is a fundamental concept to understand for any (aspiring) computer expert. \n",
    "\n",
    "The tutorial both provides \n",
    "1. Self-contained proofs for all mathematical theorems and statements necessary to understand RSA (**\"what I cannot prove, I don't understand.\"**) \n",
    "\n",
    "2. Self-contained code for the RSA algorithm (**\"What I cannot build, I cannot improve.\"**).\n",
    "\n",
    "3. A self-contained study of the current `ssh` protocol and where RSA is used there (**\"What I have not seen applied, I cannot appreciate.\"**)\n",
    "\n",
    "To make the most of this tutorial, I recommended that you have (or attain) familarity with the following concepts: \n",
    "\n",
    "1. A mathematical group $(G,\\cdot)$.\n",
    "2. Modular arithmetic, particularly the concept of the field $\\mathbb{F}_p$ of $\\mathbb{Z}/p\\mathbb{Z}$ for a prime number $p$.\n",
    "\n",
    "\n",
    "**Code:** you can find the code that generated this post in form of a jupyer notebook [here](https://github.com/PeterHolderrieth/PeterHolderrieth.github.io/blob/main/projects/BitCoin_and_Encription/2_Hands_on_Introduction_to_RSA.ipynb)."
   ]
  },
  {
   "cell_type": "markdown",
   "id": "09565e8f",
   "metadata": {},
   "source": [
    "## 1. Introduction"
   ]
  },
  {
   "cell_type": "markdown",
   "id": "46c62e4f",
   "metadata": {},
   "source": [
    "### 1.1. What do we want?\n",
    "\n",
    "The goal of cryptography is to enable us to send messages privately and to do so in an efficient manner. For example, if Anna wants to send Ben a message on WhatsApp, we would like to have the following requirements:\n",
    "1. **Privacy = Only the intended receiver can read the message:** If a random person gets to see what Anna is sending to Ben, the person should not be able to understand the meaning of the message. With our mobile phones, we send messages through networks (in particular, the world wide web), so we cannot fully control who can detect the signals we send out. Therefore, we need to make sure that only the intended receiver can read the original message.\n",
    "\n",
    "2. **Efficiency = Messages should not take forever to be sent:** If Anna is sending a message a Ben, the algorithm to encrypt the message should be efficient - I don't want to wait a day until my message is sent."
   ]
  },
  {
   "cell_type": "markdown",
   "id": "4aa2d37a",
   "metadata": {},
   "source": [
    "### 1.2. How do we do it?"
   ]
  },
  {
   "cell_type": "markdown",
   "id": "90799aa0",
   "metadata": {},
   "source": [
    "Cryptography solves this problem by **encrypting messages into a format not understandable to anyone else but the intended receiver (here Ben)**. The sender encodes a message with an encryption function specific to the receiver of the message. In this case, Ben is giving Anna an encryption method $E_{\\text{Ben}}$ only he knows how to decrypt. Anna is using that function $E_{\\text{Ben}}$ that encrypt her intended message. The process of sending a message privately from Anna to Ben looks as follows:"
   ]
  },
  {
   "cell_type": "markdown",
   "id": "f7ecfccd",
   "metadata": {},
   "source": [
    "1. **Message on local device:** Anna is typing \"See you tomorrow at 8pm!\" and her mobile phone converts it into binary code $1011...0001$ represented by integer $m\\in\\mathbb{Z}$.\n",
    "2. **Encryption:** message $m$ is encrypted with Ben's encryption function: $m_e=E_{\\text{Ben}}(m)$ on Anna's mobile phone.\n",
    "3. **Sending out message:** Anna's mobile phone is sending out $m_e$ via mobile phone networks.\n",
    "4. **Receiving message:** Ben's mobile phone receives $m_e$.\n",
    "5. **Decryption:** Ben's mobile phone is decrypting $m_e$ with inverse function: $E_{\\text{Ben}}^{-1}(m_e)=m$.\n",
    "\n",
    "**Note:** cryptographic security as discussed here only concerns step 3, i.e. if an outsider listens into the signals that Anna is sending to Ben. If someone violently gains access to Ben's or Anna's phone, that is an issue for the police."
   ]
  },
  {
   "cell_type": "markdown",
   "id": "be87c2f6",
   "metadata": {},
   "source": [
    "### 1.3. Ingredients"
   ]
  },
  {
   "cell_type": "markdown",
   "id": "2c8632b3",
   "metadata": {},
   "source": [
    "For the above process to work, we need several requirements:\n",
    "1. **Efficient encryption and decryption:** a simple and efficient way of computing $E_{\\text{Ben}}(m)$ for an encryption function $E_{\\text{Ben}}$ and for computing its inverse $E_{\\text{Ben}}^{-1}$.\n",
    "2. **Key generation:** a standard and efficient way of generating *different* encoding functions $E_{\\text{Ben}},E_{\\text{Alice}},...$ for every potential receiver of a message.\n",
    "3. **Privacy:** we need to be able to share $E_{\\text{Ben}}$ in a way that is possible to compute $E_{\\text{Ben}}(m)$ but impossible to compute $E_{\\text{Ben}}^{-1}$.\n",
    "\n",
    "**The rest of this tutorial will walk you through the above 3 ingredients step by step.**"
   ]
  },
  {
   "cell_type": "markdown",
   "id": "757ef1f3-7e81-4529-a627-0105fe85e0b6",
   "metadata": {},
   "source": [
    "### 1.4. Import relevant packages and timer function"
   ]
  },
  {
   "cell_type": "code",
   "execution_count": 1,
   "id": "cbb08900-45f1-4e0f-830c-680f53bd86d2",
   "metadata": {
    "tags": []
   },
   "outputs": [],
   "source": [
    "import random\n",
    "import numpy as np\n",
    "import matplotlib.pyplot as plt\n",
    "from tqdm import tqdm\n",
    "import pandas as pd\n",
    "import datetime\n",
    "import random\n",
    "from struct import pack, unpack\n",
    "import time"
   ]
  },
  {
   "cell_type": "markdown",
   "id": "42739e72-fab0-40e4-92a8-e4b612bea4a2",
   "metadata": {},
   "source": [
    "A helper function to measure time"
   ]
  },
  {
   "cell_type": "code",
   "execution_count": 2,
   "id": "199a121d-36e1-42e4-8974-feb5f0149609",
   "metadata": {},
   "outputs": [],
   "source": [
    "class Timer:\n",
    "    def __init__(self,message):\n",
    "        self.message = message\n",
    "        \n",
    "    def __enter__(self):\n",
    "        self.start = time.perf_counter()\n",
    "        return self\n",
    "\n",
    "    def __exit__(self, *args):\n",
    "        self.end = time.perf_counter()\n",
    "        self.interval = self.end - self.start\n",
    "        print(f\"Time to execute {self.message} in seconds = {self.interval:.2e}\")"
   ]
  },
  {
   "cell_type": "markdown",
   "id": "f60757ed",
   "metadata": {},
   "source": [
    "## 2.  Efficient Encryption and Decryption"
   ]
  },
  {
   "cell_type": "markdown",
   "id": "1984c2dd",
   "metadata": {},
   "source": [
    "### 2.1. The Encryption function"
   ]
  },
  {
   "cell_type": "markdown",
   "id": "d9fa4716",
   "metadata": {},
   "source": [
    "At the core of RSA is the following function:\n",
    "$$E_{k,p}(m) = m^k \\text{ mod } n$$\n",
    "where\n",
    "1. $m$ is a positive integer representing the message.\n",
    "2. $n$ and $k$ are positive integers used to computed the encrypted message.\n",
    "\n",
    "A naive computation of $E_{k,n}(m)$ via iterative multiplication would require $\\mathcal{O}(k)$ multiplications. If $k$ has $2$ bits (i.e. $s=\\log_2(k)$), then $\\mathcal{O}(2^s)$ would be the complexity of the algorithm, i.e. it would scale exponentially in the number of bits. This is inefficient. However, we can do much better."
   ]
  },
  {
   "cell_type": "markdown",
   "id": "06c5778b",
   "metadata": {},
   "source": [
    "### 2.2. Efficient computation of the encryption function"
   ]
  },
  {
   "cell_type": "markdown",
   "id": "79c79c2c",
   "metadata": {},
   "source": [
    "An efficient computation of $E_{k,p}(m)$ can be achieved by decomposing $k$ into bits $\\delta_{j}\\in\\{0,1\\}$ ($j=0,\\dots,s$).\n",
    "\n",
    "$$k = \\sum\\limits_{j=0}^{s}\\delta_{j}2^j$$\n",
    "And therefore:\n",
    "$$m^k \\text{ mod } n = \\prod\\limits_{j=0}^{s}m^{\\delta_{j}2^{j}} \\text{ mod } n $$ \n",
    "$$m^k \\text{ mod } n = \\prod\\limits_{j=0}^{s}((m^{2^{j-1}})^2)^{\\delta_{j}} \\text{ mod } n $$ \n",
    "\n",
    "This leads to the following algorithm requiring $\\mathcal{O}(s)=\\mathcal{O}(\\log_2 )$ operations: iteratively compute $a_j=m^{2^j}$ from $a_{j-1}=m^{2^{j-1}}$ and take the product of all factors $a_j$'s where $\\delta_j=1$. Here is a python implementation:"
   ]
  },
  {
   "cell_type": "code",
   "execution_count": 3,
   "id": "b7289575",
   "metadata": {
    "tags": []
   },
   "outputs": [],
   "source": [
    "def exp(m, k, n):\n",
    "    \"\"\"returns m^k mod n in O(log k) operations.\n",
    "    \"\"\"\n",
    "\n",
    "    r = 1 #Initialize running product\n",
    "    m = m % n #Get modulo class\n",
    "\n",
    "    while k > 0:\n",
    "        if k & 1: #If delta_j=1\n",
    "            r = (r * m) % n #Add product modulo n\n",
    "        m = (m * m) % n #Compute product of higher order\n",
    "        k = k >> 1 #Compute bit representation of higher order\n",
    "\n",
    "    return r"
   ]
  },
  {
   "cell_type": "markdown",
   "id": "b034d977",
   "metadata": {},
   "source": [
    "For fun, let's compare it with a naive approach: we see that the efficient approach is significantly faster:"
   ]
  },
  {
   "cell_type": "code",
   "execution_count": 4,
   "id": "873435c6",
   "metadata": {
    "tags": []
   },
   "outputs": [
    {
     "name": "stdout",
     "output_type": "stream",
     "text": [
      "Time to execute naive exp(m,k,n) for m = k = n = 10000000 in seconds = 6.22e-01\n",
      "Time to execute efficient exp(m,k,n) for m = k = n = 10000000 in seconds = 7.05e-06\n"
     ]
    }
   ],
   "source": [
    "def naive_exp(m, k, n=1000007):\n",
    "    r = 1\n",
    "    for i in range(k): r = (r * m) % n\n",
    "    return r\n",
    "\n",
    "m = k = n = int(1e7)\n",
    "\n",
    "with Timer(f\"naive exp(m,k,n) for m = k = n = {m}\"):\n",
    "    result_naive = naive_exp(m,k,n)\n",
    "    \n",
    "with Timer(f\"efficient exp(m,k,n) for m = k = n = {m}\"):\n",
    "    result_efficient = exp(m,k,n)\n",
    "    \n",
    "assert result_naive == result_efficient"
   ]
  },
  {
   "cell_type": "markdown",
   "id": "a7465375",
   "metadata": {},
   "source": [
    "**If you are asking now: so what? The significance of this is that we can compute exponentials for very, very, very large $m,k,n$ in a fraction of a second:**"
   ]
  },
  {
   "cell_type": "code",
   "execution_count": 5,
   "id": "fdaac2cc",
   "metadata": {
    "tags": []
   },
   "outputs": [
    {
     "name": "stdout",
     "output_type": "stream",
     "text": [
      "Time to execute efficient exp with m=n=k=1000000000000000052504760255204420248704468581108159154915854115511802457988908195786371375080447864043704443832883878176942523235360430575644792184786706982848387200926575803737830233794788090059368953234970799945081119038967640880074652742780142494579258788820056842838115669472196386865459400540160 in seconds = 1.64e-04\n"
     ]
    }
   ],
   "source": [
    "m = k = n = int(1e300) #a number unimaginably large\n",
    "with Timer(f\"efficient exp with m=n=k={m}\"):\n",
    "    exp(m,k,n)"
   ]
  },
  {
   "cell_type": "markdown",
   "id": "6dfb5b85",
   "metadata": {},
   "source": [
    "### 2.3. Plotting exponentials \n",
    "\n",
    "Let's plot a an example function with $k=100$ and $n=1000007$ for message $m=1,2,3,...,x$:"
   ]
  },
  {
   "cell_type": "code",
   "execution_count": 6,
   "id": "b97cb0b7",
   "metadata": {},
   "outputs": [
    {
     "data": {
      "image/png": "[encoded data removed]",
      "text/plain": [
       "<Figure size 2400x600 with 5 Axes>"
      ]
     },
     "metadata": {},
     "output_type": "display_data"
    }
   ],
   "source": [
    "k = 100\n",
    "n = 1000007\n",
    "n_it = 5\n",
    "m_arr = np.arange(1,10**n_it)\n",
    "y_arr =[exp(m,k,n) for m in m_arr]\n",
    "\n",
    "fig, axs = plt.subplots(1,n_it,figsize=((n_it-1)*6,6))\n",
    "for l_sub in range(1,n_it+1):\n",
    "    axs[l_sub-1].scatter(m_arr[:10**l_sub],y_arr[:10**l_sub])\n",
    "    axs[l_sub-1].set_xlabel(\"m\")\n",
    "    axs[l_sub-1].set_ylabel(\"m^n mod p\")\n",
    "    axs[l_sub-1].set_title(f\"Up to x = {10**l_sub}\")\n",
    "plt.show()"
   ]
  },
  {
   "cell_type": "markdown",
   "id": "bcf200dd",
   "metadata": {},
   "source": [
    "Just visually, it is plausible that these functions behave in a seemingly random and unpredictable fashion - exactly what we want to encrypt something :)"
   ]
  },
  {
   "cell_type": "markdown",
   "id": "0e669339",
   "metadata": {},
   "source": [
    "## 3.  Key generation"
   ]
  },
  {
   "cell_type": "markdown",
   "id": "6b92be29",
   "metadata": {},
   "source": [
    "### 3.1.  The key generation algorithm"
   ]
  },
  {
   "cell_type": "markdown",
   "id": "e7a2cf2b",
   "metadata": {},
   "source": [
    "The RSA key generation algorithms allows to setup a person to receive messages by generating public and private keys that define the encoding and decoding functions $E,E^{-1}$. The key generation algorithm is defined as follows:"
   ]
  },
  {
   "cell_type": "markdown",
   "id": "891fbf45",
   "metadata": {},
   "source": [
    "#### RSA key generation \n",
    "\n",
    "1. **Input**: `bit_size`$\\in\\mathbb{N}$\n",
    "\n",
    "2. **Prime number generation:** Generate 2 prime numbers $p,q$ with bit size `bit_size`. Ensure that $p\\neq q$ by potentially regenerating $q$.\n",
    "\n",
    "3. **Define $n$ as the product:** Set $n = p * q$.\n",
    "4. **Compute smallest common multiple of $p-1$ and $q-1$**:\n",
    "$$\\lambda(n)=\\text{lcm}(p-1,q-1) = \\frac{|ab|}{\\text{gcd}(a, b)}$$\n",
    "where $\\text{gcd}$ is the greatest common divisor.\n",
    "\n",
    "5. **Choose basis $e$**: find an integer $e$ such that $2 < e < \\lambda(n)$ and $\\text{gcd}(e, \\lambda(n)) = 1$, i.e. \n",
    "that is, $e$ and $\\lambda(n)$ are coprime.\n",
    "6. **Compute inverse d of basis:** Determine $d = e^{-1} \\text{ mod }\\lambda(n)$.\n",
    "7. **Return keys**:\n",
    "\n",
    "    7.1. **Private key:** $(d,n)$\n",
    "\n",
    "    7.2. **Public key:** $(e,n)$"
   ]
  },
  {
   "cell_type": "markdown",
   "id": "15910fce",
   "metadata": {},
   "source": [
    "### 3.2 Encrypting with public key"
   ]
  },
  {
   "cell_type": "markdown",
   "id": "09b3a32e",
   "metadata": {},
   "source": [
    "Given a message $m$ (i.e. an integer) and a public key $(e,n)$, we encrypt it as\n",
    "$$c = E_{e,n}(m) = m^e \\text{ mod }n$$"
   ]
  },
  {
   "cell_type": "markdown",
   "id": "8f95813f",
   "metadata": {},
   "source": [
    "### 3.3 Decrypting with private key"
   ]
  },
  {
   "cell_type": "markdown",
   "id": "2ec8feb0",
   "metadata": {},
   "source": [
    "Given a cyphertext $c$ (i.e. an integer) and with access to the private key $(d,n)$, we can decrypt it as\n",
    "\\begin{align*}\n",
    "E_{d,n}(c) &= c^{d} \\text{ mod }n \\\\\n",
    "& = (m^{e})^d \\text{ mod }n \\\\\n",
    "& = m^{ed} \\text{ mod }n \\\\\n",
    "\\end{align*}\n",
    "In fact, as we will see in the next paragraph, **it holds that $m^{ed} = m \\text{ mod }n$, so decryption recovers the original message**. Let's prove this:"
   ]
  },
  {
   "cell_type": "markdown",
   "id": "ff075b61",
   "metadata": {},
   "source": [
    "### 3.4 Proof of correctness"
   ]
  },
  {
   "cell_type": "markdown",
   "id": "0cbb660f",
   "metadata": {},
   "source": [
    "To show correctness, we need the following statement: \n",
    "\n",
    "**Fermat's little theorem:** For any prime number $p$ and for any integer $a$ not divisible by $p$, we have $$a^{p-1} = 1 \\text{ mod }p$$\n",
    "\n",
    "**Proof of Fermat's little theorem:** We know that $a \\text{ mod }p\\neq 0$ and therefore, $a$ is a non-zero element in the multiplicative group $G=(\\mathbb{F}_p-\\{0\\},*)$. Therefore, $a^{|G|}=1=a^{p-1}$.\n",
    "\n",
    "**Proof of RSA correctness:** \n",
    "It holds that $ed = 1 \\text{ mod }\\lambda(n)$, i.e. for some integers $s$ and $t$:\n",
    "$$ed-1 = s(p-1) = t(q-1)$$\n",
    "\n",
    "We want to show that $m^{ed}=m\\text{ mod }n$. This is equivalent to showing that both \n",
    "$$m^{ed}=m \\text{ mod }p \\Leftrightarrow m^{ed}-m =0\\text{ mod }p$$\n",
    "$$m^{ed}=m \\text{ mod }q\\Leftrightarrow m^{ed}-m =0\\text{ mod }q$$\n",
    "because if $m^{ed}-m$ is divisible by $p$ and $q$, it must be divisible by $n$ (as $p,q$ are prime).\n",
    "\n",
    "Let's assume that $m\\text{ mod }p=0$. Then also $m^{ed}\\text{ mod }p=0$. So that case is trivial. Therefore, let's assume that $m\\text{ mod }p\\neq 0$. By Fermat's little theorem, we therefore know that:\n",
    "$$m^{ed-1}=(m^{p-1})^{s} = 1\\text{ mod }p$$\n",
    "This gives us that $m^{ed}=m*m^{ed-1} = m\\text{ mod }p$. By replacing $p$ with $q$ (and $s$ with $t$), we also get that $m^{ed}= m\\text{ mod }q$. This finishes the proof."
   ]
  },
  {
   "cell_type": "markdown",
   "id": "8d1537eb-6cc5-4359-a85d-78559ba4ef02",
   "metadata": {
    "execution": {
     "iopub.execute_input": "2023-07-19T00:20:34.141586Z",
     "iopub.status.busy": "2023-07-19T00:20:34.140886Z",
     "iopub.status.idle": "2023-07-19T00:20:34.145086Z",
     "shell.execute_reply": "2023-07-19T00:20:34.144352Z",
     "shell.execute_reply.started": "2023-07-19T00:20:34.141557Z"
    }
   },
   "source": [
    "### 3.5 What's kept secret?"
   ]
  },
  {
   "cell_type": "markdown",
   "id": "378414dd-be3f-4323-b997-7afbeb897d6a",
   "metadata": {},
   "source": [
    "As you can guess, a user's public key $(e,n)$ is revealed to the world, while a user keeps his private key $(d,n)$ private."
   ]
  },
  {
   "cell_type": "markdown",
   "id": "b3294c65-f379-4a3e-a126-bee0aab59a5c",
   "metadata": {},
   "source": [
    "**Who knows $p,q,\\lambda(n)$?** If you know $p$ or $q$, then you can calculate $\\lambda(n)$ and from that you can calculate $d$. Therefore, $p,q,\\lambda(n)$ are all kept secret. \n",
    "\n",
    "\n",
    "**Note: $p$ and $q$ can be only kept secret if revealing $n$ does not reveal $p$ and $q$. <font color=\"red\"> This is a main assumption of the RSA algorithm: you cannot determine the prime factorization of a large number $n=pq$ in efficient(=polynomial) time. To this date, this fact remains unproven.**"
   ]
  },
  {
   "cell_type": "markdown",
   "id": "82409620",
   "metadata": {},
   "source": [
    "## 4.  Optional Deep Dives: Mathematical Operations"
   ]
  },
  {
   "cell_type": "markdown",
   "id": "85a2aeb0",
   "metadata": {},
   "source": [
    "As a basis for the RSA encryption we need a few algorithms:\n",
    "1. An algorithm for finding the greatest common divisor (see step 4 to compute $\\lambda(n)$) \n",
    "2. An algorithm for finding the modular inverse (see step 6 to compute $d=e^{-1}\\text{ mod }\\lambda(n)$)\n",
    "3. An algorithm for randomly generating large prime numbers (see step 2 for generating $p,q$).\n",
    "\n",
    "In this section, we explain these algorithms and provide self-contained python implementation. **As this section is not necessary to understand the rest, feel free to skip this section.**"
   ]
  },
  {
   "cell_type": "markdown",
   "id": "278b092b",
   "metadata": {},
   "source": [
    "### 4.1 Deep Dive 1: Finding greatest common divisor"
   ]
  },
  {
   "cell_type": "markdown",
   "id": "0fda4eb0",
   "metadata": {},
   "source": [
    "In order to find $\\lambda(n)$ for the RSA algorithm, we need to compute:\n",
    "$$\\lambda(n)=\\text{lcm}(p-1,q-1) = \\frac{|(p-1)(q-1)|}{\\text{gcd}(p-1, q-1)}$$\n",
    "and for that we need to have an algorithm that finds the greatest common divisor $\\text{gcd}(a,b)$. For that, we use the [Euclidean algorithm](https://en.wikipedia.org/wiki/Euclidean_algorithm). This algorithm makes use of the fact that if $a>b$: $$\\text{gcd}(a,b)=\\text{gcd}(a\\text{ mod }b,b)$$\n",
    "$$\\text{max}(a,b)>b=\\text{max}(a\\text{ mod }b,b)$$\n",
    "Therefore, by iteratively replacing the larger number $a$ with $a\\text{ mod } b$, we converge after a finite number of steps. The computational complexity of the Euclidean algorithm is $\\mathcal{O}(\\log(\\text{min}(a,b)))$, i.e. polynomial in the number of bits. Here is a python implementation:"
   ]
  },
  {
   "cell_type": "code",
   "execution_count": 7,
   "id": "a4ad3db8",
   "metadata": {
    "tags": []
   },
   "outputs": [],
   "source": [
    "def gcd(a, b):\n",
    "    \"\"\"Euclid's algorithm for gcd (Iterative)\n",
    "\n",
    "    Args:\n",
    "        a: int\n",
    "        b: int\n",
    "\n",
    "    Returns gcd(a, b) computed using Euclid's Algorithm.\n",
    "\n",
    "    EXAMPLES\n",
    "    ========\n",
    "    >>> gcd(7, 19)\n",
    "    1\n",
    "    >>> gcd(221,34)\n",
    "    17\n",
    "    \"\"\"\n",
    "    assert a > 0 and b > 0\n",
    "\n",
    "    while a:\n",
    "        a, b = b % a, a\n",
    "\n",
    "    return b"
   ]
  },
  {
   "cell_type": "markdown",
   "id": "be20bdf3",
   "metadata": {},
   "source": [
    "Let's test the algorithm."
   ]
  },
  {
   "cell_type": "code",
   "execution_count": 8,
   "id": "28789a9d",
   "metadata": {
    "tags": []
   },
   "outputs": [],
   "source": [
    "b = (5**3)*(3**6)*(7**9)*(11**4)\n",
    "a = (5**5)*(3**2)*(7**4)*(11**2)\n",
    "assert gcd(a,b) == (5**3)*(3**2)*(7**4)*(11**2) #gcd can be explicitly found via prime factorization"
   ]
  },
  {
   "cell_type": "markdown",
   "id": "d9b92b83",
   "metadata": {},
   "source": [
    "### 4.2 Deep Dive 2: Finding the modular inverse"
   ]
  },
  {
   "cell_type": "markdown",
   "id": "edbe07da-e849-4272-b25a-7e26b1131e4c",
   "metadata": {
    "execution": {
     "iopub.execute_input": "2023-07-19T00:59:56.582204Z",
     "iopub.status.busy": "2023-07-19T00:59:56.581550Z",
     "iopub.status.idle": "2023-07-19T00:59:56.588578Z",
     "shell.execute_reply": "2023-07-19T00:59:56.586999Z",
     "shell.execute_reply.started": "2023-07-19T00:59:56.582176Z"
    }
   },
   "source": [
    "Next, we want to implement an algorithm that allows us to find modular inverses."
   ]
  },
  {
   "cell_type": "markdown",
   "id": "92195b3a-093b-441d-a278-b4bd1ff42a52",
   "metadata": {},
   "source": [
    "Given two integers $a$ and $b$, the [extended Euclidean algorithm](https://en.wikipedia.org/wiki/Extended_Euclidean_algorithm) allows to find a decomposition:\n",
    "    $$\\text{gcd}(a,b)=ax+by$$\n",
    "where $x,y\\in\\mathbb{Z}$.\n",
    "\n",
    "Now, if we find a modular for inverse for $e$ with respect to $\\lambda(n)$, we can apply the apply the algorithm to find a decomposition\n",
    "    $$1=\\text{gcd}(e,\\lambda(n))=ex+\\lambda(n)y$$\n",
    "Setting $d=e^{-1}=x \\text{ mod }n$ gives us the required solution.\n"
   ]
  },
  {
   "cell_type": "code",
   "execution_count": 9,
   "id": "0e444e86",
   "metadata": {},
   "outputs": [],
   "source": [
    "def xgcd(a, b):\n",
    "    \"\"\"Extended Euclidean Algorithm (Iterative)\n",
    "\n",
    "    Args:\n",
    "        a: int\n",
    "        b: int\n",
    "\n",
    "    NOTES\n",
    "    =====\n",
    "    We can represent gcd(a,b) = a.x + b.y\n",
    "    This function returns gcd(a, b), x, y\n",
    "\n",
    "    REFERENCES\n",
    "    ==========\n",
    "    https://anh.cs.luc.edu/331/notes/xgcd.pdf\n",
    "\n",
    "    EXAMPLES\n",
    "    ========\n",
    "    >>> xgcd(15, 35)\n",
    "    (5, -2, 1)\n",
    "    >>> xgcd(30, 20)\n",
    "    (10, 1, -1)\n",
    "    \"\"\"\n",
    "    assert a > 0 and b > 0\n",
    "\n",
    "    xprev, x = 0, 1\n",
    "    yprev, y = 1, 0\n",
    "\n",
    "    while a:\n",
    "        q = b // a\n",
    "        x, xprev = xprev - q * x, x\n",
    "        y, yprev = yprev - q * y, y\n",
    "        a, b = b % a, a\n",
    "\n",
    "    return b, xprev, yprev\n",
    "\n",
    "\n",
    "def inverse(a, n):\n",
    "    \"\"\"Modular Multiplicative Inverse\n",
    "\n",
    "    Args:\n",
    "        a: integer whose inverse is to be found\n",
    "        n: modular base\n",
    "\n",
    "    NOTES\n",
    "    =====\n",
    "    Returns the modular multiplicative inverse of 'a' under mod n\n",
    "    Return value is always positive\n",
    "\n",
    "    EXAMPLES\n",
    "    ========\n",
    "    >>> inverse(2, 5)\n",
    "    3\n",
    "    >>> inverse(17, 39)\n",
    "    23\n",
    "    >>> inverse(2,4)\n",
    "    Traceback (most recent call last):\n",
    "    Exception: Inverse does not exist.\n",
    "\n",
    "    \"\"\"\n",
    "    g, x, _ = xgcd(a, n)\n",
    "\n",
    "    if g != 1:\n",
    "        raise Exception(\"Inverse does not exist.\")\n",
    "\n",
    "    return (x % n + n) % n"
   ]
  },
  {
   "cell_type": "markdown",
   "id": "6e4f4d55-211a-456b-a9ae-8da880cc6bcb",
   "metadata": {},
   "source": [
    "Let's test a few examples:"
   ]
  },
  {
   "cell_type": "code",
   "execution_count": 10,
   "id": "ab72ed1e",
   "metadata": {
    "scrolled": true,
    "tags": []
   },
   "outputs": [
    {
     "name": "stdout",
     "output_type": "stream",
     "text": [
      "20*computed inverse = 1\n",
      "11*computed inverse = 1\n",
      "Inverse does not exist for 30 mod 12\n",
      "123*computed inverse = 1\n",
      "1234721*computed inverse = 1\n"
     ]
    }
   ],
   "source": [
    "for a,b in zip([20,11,30,123,1234721],[123,1233,12,1244,1238461246]):\n",
    "    try:\n",
    "        computed_inverse = inverse(a,b)\n",
    "        print(f\"{a}*computed inverse = {(computed_inverse*a)%b}\")\n",
    "    except:\n",
    "        print(f\"Inverse does not exist for {a} mod {b}\")"
   ]
  },
  {
   "cell_type": "markdown",
   "id": "708a991e",
   "metadata": {},
   "source": [
    "### 4.3 Deep Dive 3: Generating random prime numbers"
   ]
  },
  {
   "cell_type": "markdown",
   "id": "fe5376bf",
   "metadata": {},
   "source": [
    "The algorithm for finding primes is simple: \n",
    "1. Generate a random number $r$ between $0$ and $2^k-1$ where $k$ is the number of bits.\n",
    "2. Make sure that it is an odd number by adding $1$ potentially to $r$.\n",
    "3. Check if $r$ is prime using a primality test. If it is prime, go to step 4. If not, set $r = r+2$ and repeat step 3.\n",
    "4. Return $r$"
   ]
  },
  {
   "cell_type": "markdown",
   "id": "cfb3c0fa",
   "metadata": {},
   "source": [
    "There exist algorithms that allow you to answer in polynomial time whether a given number is a prime number - see for example the [AKS primality test](https://en.wikipedia.org/wiki/AKS_primality_test) running in $\\mathcal{O}(k^6)$ or the [Miller-Rabin algorithm](https://en.wikipedia.org/wiki/Miller%E2%80%93Rabin_primality_test) defined below with cubic complexity $\\mathcal{O}(k^3)$. In addition, the average gap between consecutive prime numbers among the first $2^k$ integers is roughly $\\mathcal{O}(k)$ (see the [prime number theorem](https://en.wikipedia.org/wiki/Prime_number_theorem)). Therefore, by the algorithm defined above, we find a random prime number with $\\mathcal{O}(k)$ requests of the primality test. This results in $\\mathcal{O}(k^4)$ complexity with the Miller-Rabin algorithm.\n",
    "\n",
    "We won't go into the detail of the Miller-Rabin algorithm. Here is it spelled out in python:"
   ]
  },
  {
   "cell_type": "code",
   "execution_count": 11,
   "id": "078b002b",
   "metadata": {},
   "outputs": [],
   "source": [
    "def miller_rabin(n, k=10):\n",
    "    \"\"\"Miller Rabin Primality Test\n",
    "    Return False if n is composite, True(probably prime) otherwise.\n",
    "\n",
    "    Args:\n",
    "        n: integer to be tested for primality\n",
    "        k: number of iterations to run the test\n",
    "\n",
    "    NOTES\n",
    "    =====\n",
    "    If n is composite then the Miller–Rabin primality test declares n probably\n",
    "    prime with a probability at most 4^(−k). Hence, larger the value of k we\n",
    "    choose, better is the chance of reducing false positives.\n",
    "\n",
    "    REFERENCES\n",
    "    ==========\n",
    "    https://en.wikipedia.org/wiki/Miller%E2%80%93Rabin_primality_test\n",
    "\n",
    "    EXAMPLES\n",
    "    ========\n",
    "    >>> miller_rabin(561)\n",
    "    False\n",
    "    >>> miller_rabin(29)\n",
    "    True\n",
    "    >>> miller_rabin(221)\n",
    "    False\n",
    "    \"\"\"\n",
    "    if n == 2:\n",
    "        return True\n",
    "    if n == 1 or n % 2 == 0:\n",
    "        return False\n",
    "\n",
    "    # Represent n - 1 as (2^s)*d\n",
    "    s, d = 0, n - 1\n",
    "    while not d % 2:\n",
    "        s += 1\n",
    "        d //= 2\n",
    "    assert(2**s*d == n - 1)\n",
    "\n",
    "    def check_if_composite_using(a):\n",
    "        x = exp(a, d, n)\n",
    "        if x == 1 or x == n - 1:\n",
    "            return False  # probably prime\n",
    "        for _ in range(s):\n",
    "            x = (x * x) % n  # check for each a^((2^i)*d)\n",
    "            if x == n - 1:\n",
    "                return False  # probably prime\n",
    "        return True  # definitely composite\n",
    "\n",
    "    # Test for k random integers a\n",
    "    for _ in range(k):\n",
    "        a = random.randint(2, n-1)\n",
    "        if check_if_composite_using(a):\n",
    "            return False  # definitely composite\n",
    "    return True  # probably prime\n"
   ]
  },
  {
   "cell_type": "code",
   "execution_count": 12,
   "id": "5e1d005f",
   "metadata": {},
   "outputs": [],
   "source": [
    "def generate_large_prime(bit_size, primality_test=miller_rabin):\n",
    "    \"\"\"generate a large a prime number by incremental search\n",
    "\n",
    "    Args:\n",
    "        bit_size: number of bits in generated prime. If you want a 100 bit long\n",
    "                  prime set bit_size = 100\n",
    "        primality_test: primality_test to use\n",
    "    REFERENCES\n",
    "    ==========\n",
    "    https://crypto.stackexchange.com/questions/1970/how-are-primes-generated-for-rsa\n",
    "    \"\"\"\n",
    "    \n",
    "    # Get a random bit_size bit integer\n",
    "    max_number = 2**bit_size\n",
    "    p = random.getrandbits(bit_size)\n",
    "    \n",
    "    if not p & 1:  # make sure it's odd\n",
    "        p += 1\n",
    "    \n",
    "    while not primality_test(p):  # test for primality\n",
    "        p = (p + 2) % max_number\n",
    "    \n",
    "    assert miller_rabin(p,k=50)\n",
    "    \n",
    "    return p"
   ]
  },
  {
   "cell_type": "code",
   "execution_count": 13,
   "id": "b37cd819",
   "metadata": {},
   "outputs": [
    {
     "name": "stdout",
     "output_type": "stream",
     "text": [
      "Time to execute generation of large prime number with 1024 bits in seconds = 1.20e+00\n",
      "Prime number:  166877896388300744236303848359134533225023426202140395166907254469529337988370404810102004393851461385927274403168711068650373839619205255274038499030228228319320991255371127964356655753525554546677352966452272139917168451526902447613624622450568234082806442745907354846277146915341084820385123731598383383827\n"
     ]
    }
   ],
   "source": [
    "n_bits = 1024\n",
    "with Timer(f\"generation of large prime number with {n_bits} bits\"):\n",
    "    prime_number = generate_large_prime(n_bits)\n",
    "print(\"Prime number: \", prime_number)"
   ]
  },
  {
   "cell_type": "markdown",
   "id": "b0ba76ad",
   "metadata": {},
   "source": [
    "## 5. Implementing Key Generation"
   ]
  },
  {
   "cell_type": "markdown",
   "id": "0e4fcc74",
   "metadata": {},
   "source": [
    "We implement a cyphertext class that represents the signal that is send from sender to receiver:"
   ]
  },
  {
   "cell_type": "code",
   "execution_count": 14,
   "id": "25fb6547",
   "metadata": {
    "tags": []
   },
   "outputs": [],
   "source": [
    "class Ciphertext():\n",
    "    \"\"\"Ciphertext\n",
    "    Wrapper class for ciphertext\"\"\"\n",
    "    def __init__(self, text: int, is_str=0):\n",
    "        \"\"\"__init__\n",
    "\n",
    "\n",
    "        Args:\n",
    "                text: ciphertext(long int)\n",
    "                is_str: boolean to specify if original message was string or not\n",
    "        \"\"\"\n",
    "        self.text = text\n",
    "        self.is_str = is_str"
   ]
  },
  {
   "cell_type": "markdown",
   "id": "deeb4603",
   "metadata": {},
   "source": [
    "We also need a helper function to convert a string into bytes:"
   ]
  },
  {
   "cell_type": "code",
   "execution_count": 15,
   "id": "efc22c6b",
   "metadata": {
    "tags": []
   },
   "outputs": [],
   "source": [
    "def as_bytes(string):\n",
    "    \"\"\"Wrapper around bytes() function to maintain compatibility between python\n",
    "    2 and 3.\"\"\"\n",
    "\n",
    "    try:\n",
    "        return bytes(string)\n",
    "    except:\n",
    "        return bytes(string, \"utf-8\")"
   ]
  },
  {
   "cell_type": "markdown",
   "id": "538373c6",
   "metadata": {},
   "source": [
    "### Finally, we implement the RSA class"
   ]
  },
  {
   "cell_type": "code",
   "execution_count": 16,
   "id": "50f87ec1",
   "metadata": {
    "tags": []
   },
   "outputs": [],
   "source": [
    "class RSA(object):\n",
    "    \"\"\"RSA Cryptosystem\n",
    "    This Class is to be used as proof of concept for the demonstation of the\n",
    "    RSA cryptosystem.\n",
    "\n",
    "    REFERENCES\n",
    "    ==========\n",
    "    https://en.wikipedia.org/wiki/RSA_(cryptosystem)\n",
    "    \"\"\"\n",
    "\n",
    "    def __init__(self, bit_size=128):\n",
    "        \"\"\"__init__\n",
    "\n",
    "\n",
    "        Args:\n",
    "            bit_size - int: bit size of generated primes\n",
    "        \"\"\"\n",
    "        self.bit_size = bit_size\n",
    "        self._p = generate_large_prime(self.bit_size)\n",
    "        self._q = generate_large_prime(self.bit_size)\n",
    "        \n",
    "        while self._p == self._q:\n",
    "            self._q = generate_large_prime(self.bit_size, self.primality_test)\n",
    "\n",
    "        self.n = self._p * self._q\n",
    "        self.phi = (self._p - 1) * (self._q - 1)\n",
    "        self._public_key, self._private_key = self.__generate_keys()\n",
    "\n",
    "    def __generate_keys(self):\n",
    "        \"\"\"generate public and private keys for current session\n",
    "        \"\"\"\n",
    "\n",
    "        # choose e < phi and co-prime to phi\n",
    "        e = random.randint(2, self.phi - 1)\n",
    "        while gcd(e, self.phi) != 1:\n",
    "            e = random.randint(2, self.phi - 1)\n",
    "\n",
    "        # choose d, the modular inverse of e mod phi\n",
    "        d = inverse(e, self.phi)\n",
    "        public_key = (e, self.n)\n",
    "        private_key = (d, self.n)\n",
    "\n",
    "        return public_key, private_key\n",
    "\n",
    "    @property\n",
    "    def public_key(self):\n",
    "        return self._public_key\n",
    "\n",
    "    @public_key.setter\n",
    "    def public_key(self, val):\n",
    "        raise Exception(\"You are not allowed to alter generated keys\")\n",
    "\n",
    "    @classmethod\n",
    "    def process_string(self, message):\n",
    "        \"\"\"Convert string to long integer\n",
    "\n",
    "        Args:\n",
    "            message: string\n",
    "\n",
    "        REFERENCE\n",
    "        =========\n",
    "        https://github.com/dlitz/pycrypto/blob/master/lib/Crypto/Util/number.py\n",
    "        \"\"\"\n",
    "\n",
    "        acc = 0\n",
    "        length = len(message)\n",
    "        if length % 4:\n",
    "            extra = (4 - length % 4)\n",
    "            message = as_bytes('\\000') * extra + as_bytes(message)\n",
    "\n",
    "        for i in range(0, length, 4):\n",
    "            acc = (acc << 32) + unpack('>I', message[i:i+4])[0]\n",
    "\n",
    "        return acc\n",
    "\n",
    "    @classmethod\n",
    "    def recover_string(self, number):\n",
    "        \"\"\"Convert long to byte string\n",
    "\n",
    "        Args:\n",
    "                number: long integer to convert to string\n",
    "\n",
    "        REFERENCE\n",
    "        =========\n",
    "        https://github.com/dlitz/pycrypto/blob/master/lib/Crypto/Util/number.py\n",
    "        \"\"\"\n",
    "\n",
    "        s = as_bytes('')\n",
    "        while number > 0:\n",
    "            s = pack('>I', number & 0xffffffff) + s\n",
    "            number = number >> 32\n",
    "\n",
    "        # remove padded zeros\n",
    "        i = 0\n",
    "        while i < len(s):\n",
    "            if s[i] != as_bytes('\\000')[0]:\n",
    "                break\n",
    "            i += 1\n",
    "        return s[i:]\n",
    "\n",
    "    def encrypt(self, message, key):\n",
    "        \"\"\"RSA Encryption\n",
    "\n",
    "        Args:\n",
    "            message: message to encrypt\n",
    "            key: public key to use for encryption\n",
    "\n",
    "        REFERENCES\n",
    "        ==========\n",
    "        https://en.wikipedia.org/wiki/RSA_(cryptosystem)#Encryption\n",
    "        \"\"\"\n",
    "\n",
    "        # If input is string, convert it to long first\n",
    "        self.is_str = 0\n",
    "        if type(message) is str:\n",
    "            self.is_str = 1\n",
    "            if len(message) > 32:\n",
    "                raise ValueError(\"Please enter a smaller string\")\n",
    "            message = self.process_string(message)\n",
    "\n",
    "        assert message.bit_length() <= self.n.bit_length()\n",
    "\n",
    "        e, n = key\n",
    "        return Ciphertext(exp(message, e, n), self.is_str)\n",
    "\n",
    "    def decrypt(self, ciphertext):\n",
    "        \"\"\"RSA Decryption\n",
    "\n",
    "        Args:\n",
    "            ciphertext: Ciphertext object to decrypt\n",
    "\n",
    "        REFERENCES\n",
    "        ==========\n",
    "        https://en.wikipedia.org/wiki/RSA_(cryptosystem)#Decryption\n",
    "        \"\"\"\n",
    "\n",
    "        d, n = self._private_key\n",
    "        if ciphertext.is_str:\n",
    "            return self.recover_string(exp(ciphertext.text, d, n))\n",
    "        return exp(ciphertext.text, d, n)\n",
    "\n",
    "    def sign(self, message):\n",
    "        \"\"\"RSA signing\n",
    "        Similar to RSA encryption but we use private key to sign.\n",
    "        Note that this is merely for proof of concept and should not be used\n",
    "        in production\n",
    "\n",
    "        Args:\n",
    "                message: message to sign\n",
    "\n",
    "        REFERENCES\n",
    "        ==========\n",
    "        https://en.wikipedia.org/wiki/RSA_(cryptosystem)#Signing_messages\n",
    "        \"\"\"\n",
    "        # If input is string, convert it to long first\n",
    "        self.is_str = 0\n",
    "        if type(message) is str:\n",
    "            self.is_str = 1\n",
    "            if len(message) > 32:\n",
    "                raise ValueError(\"Please enter a smaller string\")\n",
    "            message = self.process_string(message)\n",
    "\n",
    "        assert message.bit_length() <= self.n.bit_length()\n",
    "\n",
    "        d, n = self._private_key\n",
    "        return Ciphertext(exp(message, d, n), self.is_str)\n",
    "\n",
    "    def verify(self, signature, key):\n",
    "        \"\"\"RSA signature verification\n",
    "\n",
    "        Args:\n",
    "            signature: signature we want to verify\n",
    "            key: public key of the person who's signature we want to verify\n",
    "\n",
    "        REFERENCES\n",
    "        ==========\n",
    "        https://en.wikipedia.org/wiki/RSA_(cryptosystem)#Signing_messages\n",
    "        \"\"\"\n",
    "\n",
    "        e, n = key\n",
    "        if signature.is_str:\n",
    "            return self.recover_string(exp(signature.text, e, n))\n",
    "        return exp(signature.text, e, n)"
   ]
  },
  {
   "cell_type": "markdown",
   "id": "a3ff88ce",
   "metadata": {},
   "source": [
    "## 6. Example usage of RSA class"
   ]
  },
  {
   "cell_type": "markdown",
   "id": "034a112a-a58a-4277-a493-b2958819a2f7",
   "metadata": {},
   "source": [
    "Let's look at an example of how we could use the RSA class. Let's assume Christian, Anna, and Julia are in the network. Christian and Anna would like to have a WhatsApp conversation encrypted via RSA. Julia wants to listen in. Can she know what Christian and Anna are talking about?"
   ]
  },
  {
   "cell_type": "markdown",
   "id": "515cb8f6-2d70-4a28-9359-16053e2bac59",
   "metadata": {},
   "source": [
    "Let's initialize 3 members of the network:"
   ]
  },
  {
   "cell_type": "code",
   "execution_count": 17,
   "id": "badc481b",
   "metadata": {
    "tags": []
   },
   "outputs": [],
   "source": [
    "christian = RSA()\n",
    "anna = RSA()\n",
    "julia = RSA()"
   ]
  },
  {
   "cell_type": "markdown",
   "id": "c2fcbb3d-1d70-49a3-9953-2db451b0eeb4",
   "metadata": {},
   "source": [
    "Let's encrypt and decrypt messages. As one can see, only the intended receiver can decrypt the message:"
   ]
  },
  {
   "cell_type": "code",
   "execution_count": 18,
   "id": "03ae30ac",
   "metadata": {
    "tags": []
   },
   "outputs": [
    {
     "name": "stdout",
     "output_type": "stream",
     "text": [
      "Cyphertext as integer:  5548272786294017225926714252043335439018009215988823276514382870737680239043\n",
      "Cyphertext as byte string:  b'\\x0cD6\\x0br5\\xd7sq\\xadfk\\\\\\r\\xd7\\xdaFS\\x943\\xbfh&}/\\x08\\xe7\\xa8\\x1c\\x9a\\x89\\xc3'\n",
      "Anna decrypting text:  b'Hi Anna! Where should we meet?'\n",
      "Julia decrypting text:  b'\\x1f\\xb0\\x16\\xc1\\xaaeU\\xfa\\xd0\\xc73\\x89\\x98\\x97\\xcf\\x81U\\xbdN\\x98B\"\\xed\\xe2\\xe9\\xfa\\x0b+o\\xf6\\xe4\\xb1'\n",
      "\n",
      "Cyphertext as integer:  1319467064091105056511627258836768424397212697842395555437725675105816226522\n",
      "Cyphertext as byte string:  b'\\x02\\xea\\xca\\xb9\\x7f`9L\\xf7\\xe4\\xcd\\x1d\\x87\\r\\xc8\\xa27\\x12\\x9b\\x91 \\xda#\\xe1\\xc2\\x92L+\\x16\\x19*\\xda'\n",
      "Anna decrypting text:  b\"Hi! Let's meet at Central!\"\n",
      "Julia decrypting text:  b'\\x112\\x8d\\xdcY\\x0b\\x97\\xd4S-\\x9a1\\x11bJ\\x14\\xc9\\xf6\\xe7F\\xd1\\xa72\\x83\\x1c\\xce\\x1cB\\x99\\xa0\\xcd\\xa0'\n"
     ]
    }
   ],
   "source": [
    "message_christian_to_anna = christian.encrypt(\"Hi Anna! Where should we meet?\", anna.public_key)\n",
    "print(\"Cyphertext as integer: \" , message_christian_to_anna.text)\n",
    "print(\"Cyphertext as byte string: \", RSA.recover_string(message_christian_to_anna.text))\n",
    "print(\"Anna decrypting text: \", anna.decrypt(message_christian_to_anna))\n",
    "print(\"Julia decrypting text: \", julia.decrypt(message_christian_to_anna))\n",
    "\n",
    "print()\n",
    "\n",
    "message_anna_to_christian = anna.encrypt(\"Hi! Let's meet at Central!\", christian.public_key)\n",
    "print(\"Cyphertext as integer: \" , message_anna_to_christian.text)\n",
    "print(\"Cyphertext as byte string: \", RSA.recover_string(message_anna_to_christian.text))\n",
    "print(\"Anna decrypting text: \", christian.decrypt(message_anna_to_christian))\n",
    "print(\"Julia decrypting text: \", julia.decrypt(message_anna_to_christian))"
   ]
  },
  {
   "cell_type": "markdown",
   "id": "4aec9993",
   "metadata": {},
   "source": [
    "## 7. Efficiency analysis: why is RSA impossible to break?"
   ]
  },
  {
   "cell_type": "markdown",
   "id": "7dcb0668",
   "metadata": {},
   "source": [
    "Polynomial time complexity means that the time complexity is polynomial in the number of bits a number $n$ is stored in, i.e. $k=\\log_2(n)$. Many standard algorithms are polynomial:\n",
    "1. Summation and Substraction have $\\mathcal{O}(k)$.\n",
    "2. Multiplication and Division have $\\mathcal{O}(k^2)$ for the standard school (\"long\") multiplication.\n",
    "\n",
    "As we have seen above, there exist efficient polynomical time algorithms to construct RSA public and private keys  as well as encrypt and decrypt messages. Therefore, **with full information disclosure (i.e. knowledge of public and private keys), the RSA algorithm is polynomial in its time complexity**. \n",
    "\n",
    "However, if you only know the public key $(e,n)$, there does not exist a known polynomial algorithm to decrypt messages. Why is that? A person trying to decrypt a message would only have access to the value of $C=m^e\\text{ mod }n$. Therefore, one would need to take the $e$-th root of $C$, a task that is currently unfeasible in polynomial time. The best approach is to simply decompose $n=pq$ and then compute $\\lambda(n)$ and then compute $d$, i.e. to compute the private key. However, there does not exist an efficient algorithm to decompose a number $n=p q$ into prime factors $p,q$. The naive algorithm via the sieve of Erasthothenes has complexity of $\\mathcal{O}(\\sqrt{n})$. The best algorithm to date seems to be [Pollard's Rho algorithm](https://en.wikipedia.org/wiki/Pollard%27s_rho_algorithm) with complexity $\\mathcal{O}(n^{1/4})$.\n",
    "\n",
    "**How much time would I need to break RSA?** Let's consider what this complexity means in real numbers for $k$ bits. Knowing $n$, it would take us around $n^{1/4}=2^{k/4}$ operations to crack the code by finding $p,q$. Let's assume that we had access to around $10000$ computers in parallel and that the number of operations per second is around $10$ billion, here is that number spelled out for various number of bits $k$:"
   ]
  },
  {
   "cell_type": "code",
   "execution_count": 19,
   "id": "296975fb",
   "metadata": {
    "tags": []
   },
   "outputs": [
    {
     "name": "stdout",
     "output_type": "stream",
     "text": [
      "N years to crack RSA with n_bits = 40 with 10000 computers: 0.00\n",
      "N years to crack RSA with n_bits = 80 with 10000 computers: 0.00\n",
      "N years to crack RSA with n_bits = 160 with 10000 computers: 0.00\n",
      "N years to crack RSA with n_bits = 240 with 10000 computers: 0.00\n",
      "N years to crack RSA with n_bits = 280 with 10000 computers: 0.37\n",
      "N years to crack RSA with n_bits = 320 with 10000 computers: 383.35\n",
      "N years to crack RSA with n_bits = 640 with 10000 computers: 463439129036942842081050624.00\n",
      "N years to crack RSA with n_bits = 1024 with 10000 computers: 36717430630808028186250246547042585184222090458157809664.00\n",
      "N years to crack RSA with n_bits = 2048 with 10000 computers: 4251588004167490284689046408340283037484633854450505232013910266720236206901638330987879672391897130042452714968711305660354741141504.00\n"
     ]
    }
   ],
   "source": [
    "for n_bits in [40,80,160,240,280,320,640,1024,2048]:\n",
    "    n_operations_to_crack = 2**(n_bits/4)\n",
    "    n_operations_per_second = 10**10 #we assume 10 billion, an upper limit\n",
    "    n_computers = 10000\n",
    "    n_operations_per_year = n_operations_per_second * 60 * 60 * 24 * 365 * n_computers\n",
    "    print(f\"N years to crack RSA with n_bits = {n_bits} with {n_computers} computers: {n_operations_to_crack/n_operations_per_year:.2f}\")"
   ]
  },
  {
   "cell_type": "markdown",
   "id": "668ce2d0",
   "metadata": {},
   "source": [
    "One can see that `n_bits=`$k=1024$ seems to be the sweetspot where it seems barely possible to crack RSA and for `n_bits`$=k=2048$, it seems virtually impossible with a conventional computer."
   ]
  },
  {
   "cell_type": "markdown",
   "id": "1cddc8cf-5b49-4977-8ec6-df4a3f19ffca",
   "metadata": {},
   "source": [
    "<font color=\"red\">\n",
    "    \n",
    "### One can see that it is virtually impossible to crack RSA as long as we choose the number of bits to be larger than $1024$"
   ]
  },
  {
   "cell_type": "markdown",
   "id": "173a7a05",
   "metadata": {},
   "source": [
    "## 7. RSA in practice: key generation with `ssh`"
   ]
  },
  {
   "cell_type": "markdown",
   "id": "d16c2c90-bd6b-4b08-8c1d-23dba008b4b5",
   "metadata": {},
   "source": [
    "Finally, we want to see how RSA is used in practice with the `ssh` protocol. Let's generate a public/private key pair with the ssh protocol as follows: \n",
    "```bash \n",
    "ssh-keygen -t rsa -b 1024 -f test -m PKCS8\n",
    "``` \n",
    "(execute this command from the command line).\n",
    "\n",
    "We use the [pycrypto library](https://pypi.org/project/pycrypto/) to read the key files into python."
   ]
  },
  {
   "cell_type": "code",
   "execution_count": 49,
   "id": "13fea981-2208-4311-b16c-8d061bba10f5",
   "metadata": {
    "tags": []
   },
   "outputs": [],
   "source": [
    "#!pip install pycrypto\n",
    "from Crypto.PublicKey import RSA\n",
    "import os"
   ]
  },
  {
   "cell_type": "code",
   "execution_count": 50,
   "id": "877d9f5b-fe08-4b03-95e0-afc2ea527048",
   "metadata": {},
   "outputs": [],
   "source": [
    "#public_key\n",
    "#private_key"
   ]
  },
  {
   "cell_type": "code",
   "execution_count": 51,
   "id": "be9a260d",
   "metadata": {
    "tags": []
   },
   "outputs": [],
   "source": [
    "#Filepaths to private and public key:\n",
    "path_to_private_key = f\"{os.getcwd()}/test\"\n",
    "path_to_public_key = f\"{os.getcwd()}/test.pub\"\n",
    "\n",
    "#Read file as string:\n",
    "private_key = open(path_to_private_key).read()\n",
    "public_key = open(path_to_public_key).read()\n",
    "\n",
    "#Convert string into RSA key:\n",
    "private_key = RSA.importKey(private_key)\n",
    "public_key = RSA.importKey(public_key)"
   ]
  },
  {
   "cell_type": "markdown",
   "id": "6b66e931-be2c-484d-8d31-85843e1ac0a1",
   "metadata": {},
   "source": [
    "Ensure that modulo basis `n` is the same"
   ]
  },
  {
   "cell_type": "code",
   "execution_count": 52,
   "id": "b88e8457-1e41-4899-a791-0f16a1d04392",
   "metadata": {
    "tags": []
   },
   "outputs": [],
   "source": [
    "assert (private_key.n == public_key.n)"
   ]
  },
  {
   "cell_type": "markdown",
   "id": "dec5494b-f916-4f09-8dbc-1ea3bf7b3704",
   "metadata": {},
   "source": [
    "Ensure that public key has no modulo inverse"
   ]
  },
  {
   "cell_type": "code",
   "execution_count": 53,
   "id": "5d4fd770-5195-4066-9558-d2cac79bd706",
   "metadata": {
    "tags": []
   },
   "outputs": [
    {
     "name": "stdout",
     "output_type": "stream",
     "text": [
      "Public key has no access to d.\n"
     ]
    }
   ],
   "source": [
    "try:\n",
    "    public_key.d\n",
    "except AttributeError:\n",
    "    print(\"Public key has no access to d.\")"
   ]
  },
  {
   "cell_type": "markdown",
   "id": "3f41a34c-a817-4748-8f84-f93e900f5ea2",
   "metadata": {},
   "source": [
    "Ensure that the number of bits are the required number of bits"
   ]
  },
  {
   "cell_type": "code",
   "execution_count": 54,
   "id": "5d177ae1-d801-41fe-a06f-06eb2a1bdf3c",
   "metadata": {
    "tags": []
   },
   "outputs": [],
   "source": [
    "n_bits = np.log(float(public_key.n))/np.log(2.0)\n",
    "assert np.abs(n_bits-1024)<20"
   ]
  },
  {
   "cell_type": "markdown",
   "id": "bb3c479d-b946-475b-9581-aa31e42b7aba",
   "metadata": {},
   "source": [
    "Encrypt and decrypt a random message:"
   ]
  },
  {
   "cell_type": "code",
   "execution_count": 55,
   "id": "908dd5be-f266-4364-842f-e343a48936a0",
   "metadata": {
    "tags": []
   },
   "outputs": [
    {
     "name": "stdout",
     "output_type": "stream",
     "text": [
      "Message: 4120053270225701479718365189610993453055934447494006920607859374417409316798882502567734229407769653542546926021145050701897543788840154378447492513004507054763505453311198458592527535325431441504043173611247435280022030252027638617596493856809129290345624090935201329985984279728947750231438674707852879972\n",
      "Decoded message: 4120053270225701479718365189610993453055934447494006920607859374417409316798882502567734229407769653542546926021145050701897543788840154378447492513004507054763505453311198458592527535325431441504043173611247435280022030252027638617596493856809129290345624090935201329985984279728947750231438674707852879972\n"
     ]
    }
   ],
   "source": [
    "message = random.randint(2,public_key.n)\n",
    "print(f\"Message: {message}\")\n",
    "encoded_message = exp(message,public_key.e,public_key.n)\n",
    "decoded_message = exp(encoded_message,private_key.d,private_key.n)\n",
    "print(f\"Decoded message: {decoded_message}\")\n",
    "assert decoded_message==message"
   ]
  }
 ],
 "metadata": {
  "kernelspec": {
   "display_name": "Python 3 (ipykernel)",
   "language": "python",
   "name": "python3"
  },
  "language_info": {
   "codemirror_mode": {
    "name": "ipython",
    "version": 3
   },
   "file_extension": ".py",
   "mimetype": "text/x-python",
   "name": "python",
   "nbconvert_exporter": "python",
   "pygments_lexer": "ipython3",
   "version": "3.9.6"
  },
  "uuid": "02c6e773-5874-4847-9af9-b03194f19c2e"
 },
 "nbformat": 4,
 "nbformat_minor": 5
}
